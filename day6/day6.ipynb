{
 "cells": [
  {
   "cell_type": "code",
   "execution_count": 18,
   "metadata": {
    "ExecuteTime": {
     "end_time": "2020-12-06T08:01:59.402808Z",
     "start_time": "2020-12-06T09:01:59.242337+01:00"
    },
    "collapsed": true
   },
   "outputs": [],
   "source": [
    "import numpy as np"
   ]
  },
  {
   "cell_type": "markdown",
   "metadata": {},
   "source": [
    "# Part 1"
   ]
  },
  {
   "cell_type": "code",
   "execution_count": 19,
   "metadata": {
    "ExecuteTime": {
     "end_time": "2020-12-06T08:01:59.427304Z",
     "start_time": "2020-12-06T09:01:59.424098+01:00"
    },
    "collapsed": true
   },
   "outputs": [],
   "source": [
    "test_case = \"\"\"\n",
    "abc\n",
    "\n",
    "a\n",
    "b\n",
    "c\n",
    "\n",
    "ab\n",
    "ac\n",
    "\n",
    "a\n",
    "a\n",
    "a\n",
    "a\n",
    "\n",
    "b\n",
    "\"\"\"\n",
    "\n",
    "expected = 11"
   ]
  },
  {
   "cell_type": "code",
   "execution_count": 36,
   "metadata": {
    "ExecuteTime": {
     "end_time": "2020-12-06T08:07:17.663913Z",
     "start_time": "2020-12-06T09:07:17.660522+01:00"
    },
    "collapsed": false
   },
   "outputs": [],
   "source": [
    "groups = [l.replace('\\n', '') for l in test_case.split('\\n\\n')]\n",
    "n_yes = [len(set(g)) for g in groups]\n",
    "total = np.sum(n_yes)"
   ]
  },
  {
   "cell_type": "code",
   "execution_count": 37,
   "metadata": {
    "ExecuteTime": {
     "end_time": "2020-12-06T08:07:19.794280Z",
     "start_time": "2020-12-06T09:07:19.790159+01:00"
    },
    "collapsed": false
   },
   "outputs": [
    {
     "data": {
      "text/plain": [
       "['abc', 'abc', 'abac', 'aaaa', 'b']"
      ]
     },
     "execution_count": 37,
     "metadata": {},
     "output_type": "execute_result"
    }
   ],
   "source": [
    "groups"
   ]
  },
  {
   "cell_type": "code",
   "execution_count": 23,
   "metadata": {
    "ExecuteTime": {
     "end_time": "2020-12-06T08:02:28.902778Z",
     "start_time": "2020-12-06T09:02:28.898854+01:00"
    },
    "collapsed": false
   },
   "outputs": [
    {
     "data": {
      "text/plain": [
       "([3, 3, 3, 1, 1], 11)"
      ]
     },
     "execution_count": 23,
     "metadata": {},
     "output_type": "execute_result"
    }
   ],
   "source": [
    "n_yes, total"
   ]
  },
  {
   "cell_type": "code",
   "execution_count": 24,
   "metadata": {
    "ExecuteTime": {
     "end_time": "2020-12-06T08:03:00.484760Z",
     "start_time": "2020-12-06T09:03:00.481336+01:00"
    },
    "collapsed": true
   },
   "outputs": [],
   "source": [
    "with open('input.txt', 'r') as f:\n",
    "    txt = f.read()"
   ]
  },
  {
   "cell_type": "code",
   "execution_count": 27,
   "metadata": {
    "ExecuteTime": {
     "end_time": "2020-12-06T08:03:29.501617Z",
     "start_time": "2020-12-06T09:03:29.496750+01:00"
    },
    "collapsed": true
   },
   "outputs": [],
   "source": [
    "groups = [l.replace('\\n', '') for l in txt.split('\\n\\n')]\n",
    "n_yes = [len(set(g)) for g in groups]\n",
    "total = np.sum(n_yes)"
   ]
  },
  {
   "cell_type": "code",
   "execution_count": 30,
   "metadata": {
    "ExecuteTime": {
     "end_time": "2020-12-06T08:03:40.468920Z",
     "start_time": "2020-12-06T09:03:40.464914+01:00"
    },
    "collapsed": false
   },
   "outputs": [
    {
     "data": {
      "text/plain": [
       "6532"
      ]
     },
     "execution_count": 30,
     "metadata": {},
     "output_type": "execute_result"
    }
   ],
   "source": [
    "total"
   ]
  },
  {
   "cell_type": "markdown",
   "metadata": {},
   "source": [
    "# Part 2"
   ]
  },
  {
   "cell_type": "code",
   "execution_count": 46,
   "metadata": {
    "ExecuteTime": {
     "end_time": "2020-12-06T08:10:23.372880Z",
     "start_time": "2020-12-06T09:10:23.370020+01:00"
    },
    "collapsed": true
   },
   "outputs": [],
   "source": [
    "expected_per_group = [3, 0, 1, 1, 1]"
   ]
  },
  {
   "cell_type": "code",
   "execution_count": 47,
   "metadata": {
    "ExecuteTime": {
     "end_time": "2020-12-06T08:10:24.237542Z",
     "start_time": "2020-12-06T09:10:24.233368+01:00"
    },
    "collapsed": false
   },
   "outputs": [],
   "source": [
    "def count_all_yes(group):\n",
    "    all_yes = None\n",
    "    for answers in group:\n",
    "        if all_yes is None:\n",
    "            all_yes = set(answers)\n",
    "        all_yes = all_yes.intersection(answers)\n",
    "    return len(all_yes)"
   ]
  },
  {
   "cell_type": "code",
   "execution_count": 48,
   "metadata": {
    "ExecuteTime": {
     "end_time": "2020-12-06T08:10:24.511225Z",
     "start_time": "2020-12-06T09:10:24.507136+01:00"
    },
    "collapsed": false
   },
   "outputs": [],
   "source": [
    "groups = [g.strip().split('\\n') for g in test_case.split('\\n\\n')]\n",
    "result = [count_all_yes(g) for g in groups]\n",
    "assert result == expected_per_group"
   ]
  },
  {
   "cell_type": "code",
   "execution_count": 49,
   "metadata": {
    "ExecuteTime": {
     "end_time": "2020-12-06T08:10:36.024975Z",
     "start_time": "2020-12-06T09:10:36.019137+01:00"
    },
    "collapsed": true
   },
   "outputs": [],
   "source": [
    "groups = [g.strip().split('\\n') for g in txt.split('\\n\\n')]\n",
    "result = [count_all_yes(g) for g in groups]\n"
   ]
  },
  {
   "cell_type": "code",
   "execution_count": 51,
   "metadata": {
    "ExecuteTime": {
     "end_time": "2020-12-06T08:10:43.119156Z",
     "start_time": "2020-12-06T09:10:43.115214+01:00"
    },
    "collapsed": false
   },
   "outputs": [
    {
     "data": {
      "text/plain": [
       "3427"
      ]
     },
     "execution_count": 51,
     "metadata": {},
     "output_type": "execute_result"
    }
   ],
   "source": [
    "np.sum(result)"
   ]
  },
  {
   "cell_type": "code",
   "execution_count": null,
   "metadata": {
    "collapsed": true
   },
   "outputs": [],
   "source": []
  }
 ],
 "metadata": {
  "hide_input": false,
  "kernelspec": {
   "display_name": "Python [conda env:scratch]",
   "language": "python",
   "name": "conda-env-scratch-py"
  },
  "language_info": {
   "codemirror_mode": {
    "name": "ipython",
    "version": 3
   },
   "file_extension": ".py",
   "mimetype": "text/x-python",
   "name": "python",
   "nbconvert_exporter": "python",
   "pygments_lexer": "ipython3",
   "version": "3.5.5"
  },
  "toc": {
   "nav_menu": {
    "height": "48px",
    "width": "252px"
   },
   "navigate_menu": true,
   "number_sections": true,
   "sideBar": true,
   "threshold": 4,
   "toc_cell": false,
   "toc_section_display": "block",
   "toc_window_display": false
  }
 },
 "nbformat": 4,
 "nbformat_minor": 2
}
