{
 "cells": [
  {
   "cell_type": "code",
   "execution_count": 29,
   "metadata": {
    "ExecuteTime": {
     "end_time": "2020-12-06T08:25:16.355965Z",
     "start_time": "2020-12-06T09:25:16.210424+01:00"
    },
    "collapsed": true
   },
   "outputs": [],
   "source": [
    "import numpy as np"
   ]
  },
  {
   "cell_type": "markdown",
   "metadata": {},
   "source": [
    "# Part 1"
   ]
  },
  {
   "cell_type": "code",
   "execution_count": 1,
   "metadata": {
    "ExecuteTime": {
     "end_time": "2020-12-06T08:16:28.231566Z",
     "start_time": "2020-12-06T09:16:28.227566+01:00"
    },
    "collapsed": true
   },
   "outputs": [],
   "source": [
    "row_str = 'FBFBBFF'"
   ]
  },
  {
   "cell_type": "code",
   "execution_count": 5,
   "metadata": {
    "ExecuteTime": {
     "end_time": "2020-12-06T08:17:27.306768Z",
     "start_time": "2020-12-06T09:17:27.302513+01:00"
    },
    "collapsed": false
   },
   "outputs": [
    {
     "data": {
      "text/plain": [
       "44"
      ]
     },
     "execution_count": 5,
     "metadata": {},
     "output_type": "execute_result"
    }
   ],
   "source": [
    "row_nr = int(row_str.replace('F', '0').replace('B', '1'), 2)\n",
    "row_nr"
   ]
  },
  {
   "cell_type": "code",
   "execution_count": 6,
   "metadata": {
    "ExecuteTime": {
     "end_time": "2020-12-06T08:18:30.352860Z",
     "start_time": "2020-12-06T09:18:30.350236+01:00"
    },
    "collapsed": true
   },
   "outputs": [],
   "source": [
    "col_str = 'RLR'"
   ]
  },
  {
   "cell_type": "code",
   "execution_count": 10,
   "metadata": {
    "ExecuteTime": {
     "end_time": "2020-12-06T08:18:58.984401Z",
     "start_time": "2020-12-06T09:18:58.979774+01:00"
    },
    "collapsed": false
   },
   "outputs": [
    {
     "data": {
      "text/plain": [
       "5"
      ]
     },
     "execution_count": 10,
     "metadata": {},
     "output_type": "execute_result"
    }
   ],
   "source": [
    "col_nr = int(col_str.replace('L', '0').replace('R', '1'), 2)\n",
    "col_nr"
   ]
  },
  {
   "cell_type": "code",
   "execution_count": 11,
   "metadata": {
    "ExecuteTime": {
     "end_time": "2020-12-06T08:19:25.367688Z",
     "start_time": "2020-12-06T09:19:25.363939+01:00"
    },
    "collapsed": false
   },
   "outputs": [
    {
     "data": {
      "text/plain": [
       "357"
      ]
     },
     "execution_count": 11,
     "metadata": {},
     "output_type": "execute_result"
    }
   ],
   "source": [
    "row_nr * 8 + col_nr"
   ]
  },
  {
   "cell_type": "code",
   "execution_count": 21,
   "metadata": {
    "ExecuteTime": {
     "end_time": "2020-12-06T08:23:07.635501Z",
     "start_time": "2020-12-06T09:23:07.629405+01:00"
    },
    "collapsed": true
   },
   "outputs": [],
   "source": [
    "def row_nr(row_str):\n",
    "    return int(row_str.replace('F', '0').replace('B', '1'), 2)\n",
    "\n",
    "def col_nr(col_str):\n",
    "    return int(col_str.replace('L', '0').replace('R', '1'), 2)\n",
    "\n",
    "def compute_id(txt):\n",
    "    txt = txt.strip()\n",
    "    row = row_nr(txt[:7])\n",
    "    col = col_nr(txt[7:])\n",
    "    return row * 8 + col"
   ]
  },
  {
   "cell_type": "code",
   "execution_count": 22,
   "metadata": {
    "ExecuteTime": {
     "end_time": "2020-12-06T08:23:08.329980Z",
     "start_time": "2020-12-06T09:23:08.324848+01:00"
    },
    "collapsed": false
   },
   "outputs": [
    {
     "name": "stdout",
     "output_type": "stream",
     "text": [
      "567 567\n",
      "119 119\n",
      "820 820\n"
     ]
    }
   ],
   "source": [
    "test_cases = [\n",
    "    ('BFFFBBFRRR', 567),\n",
    "    ('FFFBBBFRRR', 119),\n",
    "    ('BBFFBBFRLL', 820),\n",
    "]\n",
    "for case, expected in test_cases:\n",
    "    result = compute_id(case)\n",
    "    print(result, expected)\n",
    "    assert result == expected"
   ]
  },
  {
   "cell_type": "code",
   "execution_count": 23,
   "metadata": {
    "ExecuteTime": {
     "end_time": "2020-12-06T08:23:09.221703Z",
     "start_time": "2020-12-06T09:23:09.218487+01:00"
    },
    "collapsed": false
   },
   "outputs": [],
   "source": [
    "with open('input.txt', 'r') as f:\n",
    "    txt = f.readlines()"
   ]
  },
  {
   "cell_type": "code",
   "execution_count": 30,
   "metadata": {
    "ExecuteTime": {
     "end_time": "2020-12-06T08:25:35.985156Z",
     "start_time": "2020-12-06T09:25:35.976422+01:00"
    },
    "collapsed": false
   },
   "outputs": [
    {
     "data": {
      "text/plain": [
       "933"
      ]
     },
     "execution_count": 30,
     "metadata": {},
     "output_type": "execute_result"
    }
   ],
   "source": [
    "ids = [compute_id(entry) for entry in txt]\n",
    "np.max(ids)"
   ]
  },
  {
   "cell_type": "markdown",
   "metadata": {},
   "source": [
    "# Part 2"
   ]
  },
  {
   "cell_type": "code",
   "execution_count": 41,
   "metadata": {
    "ExecuteTime": {
     "end_time": "2020-12-06T08:27:36.025456Z",
     "start_time": "2020-12-06T09:27:36.022588+01:00"
    },
    "collapsed": false
   },
   "outputs": [],
   "source": [
    "ids = sorted(ids)"
   ]
  },
  {
   "cell_type": "code",
   "execution_count": 42,
   "metadata": {
    "ExecuteTime": {
     "end_time": "2020-12-06T08:27:42.176358Z",
     "start_time": "2020-12-06T09:27:42.172015+01:00"
    },
    "collapsed": false
   },
   "outputs": [
    {
     "data": {
      "text/plain": [
       "(array([704]),)"
      ]
     },
     "execution_count": 42,
     "metadata": {},
     "output_type": "execute_result"
    }
   ],
   "source": [
    "np.where(np.diff(ids) == 2)"
   ]
  },
  {
   "cell_type": "code",
   "execution_count": 44,
   "metadata": {
    "ExecuteTime": {
     "end_time": "2020-12-06T08:27:46.168981Z",
     "start_time": "2020-12-06T09:27:46.164965+01:00"
    },
    "collapsed": false
   },
   "outputs": [
    {
     "data": {
      "text/plain": [
       "[709, 710, 712, 713]"
      ]
     },
     "execution_count": 44,
     "metadata": {},
     "output_type": "execute_result"
    }
   ],
   "source": [
    "ids[703:707]"
   ]
  },
  {
   "cell_type": "code",
   "execution_count": null,
   "metadata": {
    "collapsed": true
   },
   "outputs": [],
   "source": []
  }
 ],
 "metadata": {
  "hide_input": false,
  "kernelspec": {
   "display_name": "Python [conda env:scratch]",
   "language": "python",
   "name": "conda-env-scratch-py"
  },
  "language_info": {
   "codemirror_mode": {
    "name": "ipython",
    "version": 3
   },
   "file_extension": ".py",
   "mimetype": "text/x-python",
   "name": "python",
   "nbconvert_exporter": "python",
   "pygments_lexer": "ipython3",
   "version": "3.5.5"
  },
  "toc": {
   "nav_menu": {
    "height": "48px",
    "width": "252px"
   },
   "navigate_menu": true,
   "number_sections": true,
   "sideBar": true,
   "threshold": 4,
   "toc_cell": false,
   "toc_section_display": "block",
   "toc_window_display": false
  }
 },
 "nbformat": 4,
 "nbformat_minor": 2
}
