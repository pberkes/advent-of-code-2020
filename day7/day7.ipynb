{
 "cells": [
  {
   "cell_type": "code",
   "execution_count": 1,
   "metadata": {
    "ExecuteTime": {
     "end_time": "2020-12-08T11:26:46.185840Z",
     "start_time": "2020-12-08T12:26:46.182043+01:00"
    },
    "collapsed": true
   },
   "outputs": [],
   "source": [
    "import re"
   ]
  },
  {
   "cell_type": "code",
   "execution_count": 2,
   "metadata": {
    "ExecuteTime": {
     "end_time": "2020-12-08T11:26:46.192333Z",
     "start_time": "2020-12-08T12:26:46.188389+01:00"
    },
    "collapsed": true
   },
   "outputs": [],
   "source": [
    "test_case = \"\"\"\n",
    "light red bags contain 1 bright white bag, 2 muted yellow bags.\n",
    "dark orange bags contain 3 bright white bags, 4 muted yellow bags.\n",
    "bright white bags contain 1 shiny gold bag.\n",
    "muted yellow bags contain 2 shiny gold bags, 9 faded blue bags.\n",
    "shiny gold bags contain 1 dark olive bag, 2 vibrant plum bags.\n",
    "dark olive bags contain 3 faded blue bags, 4 dotted black bags.\n",
    "vibrant plum bags contain 5 faded blue bags, 6 dotted black bags.\n",
    "faded blue bags contain no other bags.\n",
    "dotted black bags contain no other bags.\n",
    "\"\"\"\n",
    "\n",
    "expected = [\n",
    "    'bright white',\n",
    "    'muted yellow',\n",
    "    'dark orange',\n",
    "    'light red',\n",
    "]"
   ]
  },
  {
   "cell_type": "code",
   "execution_count": 3,
   "metadata": {
    "ExecuteTime": {
     "end_time": "2020-12-08T11:26:46.207331Z",
     "start_time": "2020-12-08T12:26:46.194929+01:00"
    },
    "collapsed": false
   },
   "outputs": [
    {
     "data": {
      "text/plain": [
       "['light red bags contain 1 bright white bag, 2 muted yellow bags.',\n",
       " 'dark orange bags contain 3 bright white bags, 4 muted yellow bags.',\n",
       " 'bright white bags contain 1 shiny gold bag.',\n",
       " 'muted yellow bags contain 2 shiny gold bags, 9 faded blue bags.',\n",
       " 'shiny gold bags contain 1 dark olive bag, 2 vibrant plum bags.',\n",
       " 'dark olive bags contain 3 faded blue bags, 4 dotted black bags.',\n",
       " 'vibrant plum bags contain 5 faded blue bags, 6 dotted black bags.',\n",
       " 'faded blue bags contain no other bags.',\n",
       " 'dotted black bags contain no other bags.']"
      ]
     },
     "execution_count": 3,
     "metadata": {},
     "output_type": "execute_result"
    }
   ],
   "source": [
    "rules_str = test_case.strip().splitlines()\n",
    "rules_str"
   ]
  },
  {
   "cell_type": "code",
   "execution_count": 4,
   "metadata": {
    "ExecuteTime": {
     "end_time": "2020-12-08T11:26:46.220889Z",
     "start_time": "2020-12-08T12:26:46.209592+01:00"
    },
    "collapsed": false
   },
   "outputs": [
    {
     "data": {
      "text/plain": [
       "{'bright white': ['shiny gold'],\n",
       " 'dark olive': ['faded blue', 'dotted black'],\n",
       " 'dark orange': ['bright white', 'muted yellow'],\n",
       " 'dotted black ': [],\n",
       " 'faded blue ': [],\n",
       " 'light red': ['bright white', 'muted yellow'],\n",
       " 'muted yellow': ['shiny gold', 'faded blue'],\n",
       " 'shiny gold': ['dark olive', 'vibrant plum'],\n",
       " 'vibrant plum': ['faded blue', 'dotted black']}"
      ]
     },
     "execution_count": 4,
     "metadata": {},
     "output_type": "execute_result"
    }
   ],
   "source": [
    "n_color_re = re.compile(r\"(?P<n>\\d*)[\\s]*(?P<color>[a-z\\s]*) bag\")\n",
    "\n",
    "def parse_rule_str(r):\n",
    "    groups = re.findall(n_color_re, r)\n",
    "    \n",
    "    top_color = groups[0][1]\n",
    "    if top_color.endswith('bags contain no other'):\n",
    "        return top_color[:-21], []\n",
    "    #contains = [(int(n), c) for n, c in groups[1:]]\n",
    "    contains = [c for n, c in groups[1:]]\n",
    "    return top_color, contains\n",
    "\n",
    "rules = [parse_rule_str(r) for r in rules_str]\n",
    "rules = dict(rules)\n",
    "rules"
   ]
  },
  {
   "cell_type": "code",
   "execution_count": 5,
   "metadata": {
    "ExecuteTime": {
     "end_time": "2020-12-08T11:26:46.227789Z",
     "start_time": "2020-12-08T12:26:46.223100+01:00"
    },
    "collapsed": true
   },
   "outputs": [],
   "source": [
    "from collections import defaultdict\n",
    "\n",
    "# Revert dictionary\n",
    "contained_to_container = defaultdict(list)\n",
    "for container, all_contained in rules.items():\n",
    "    for contained in all_contained:\n",
    "        contained_to_container[contained].append(container)"
   ]
  },
  {
   "cell_type": "code",
   "execution_count": 6,
   "metadata": {
    "ExecuteTime": {
     "end_time": "2020-12-08T11:26:46.235643Z",
     "start_time": "2020-12-08T12:26:46.230469+01:00"
    },
    "collapsed": false
   },
   "outputs": [
    {
     "data": {
      "text/plain": [
       "defaultdict(list,\n",
       "            {'bright white': ['dark orange', 'light red'],\n",
       "             'dark olive': ['shiny gold'],\n",
       "             'dotted black': ['dark olive', 'vibrant plum'],\n",
       "             'faded blue': ['dark olive', 'muted yellow', 'vibrant plum'],\n",
       "             'muted yellow': ['dark orange', 'light red'],\n",
       "             'shiny gold': ['muted yellow', 'bright white'],\n",
       "             'vibrant plum': ['shiny gold']})"
      ]
     },
     "execution_count": 6,
     "metadata": {},
     "output_type": "execute_result"
    }
   ],
   "source": [
    "contained_to_container"
   ]
  },
  {
   "cell_type": "code",
   "execution_count": 7,
   "metadata": {
    "ExecuteTime": {
     "end_time": "2020-12-08T11:26:46.244123Z",
     "start_time": "2020-12-08T12:26:46.238395+01:00"
    },
    "collapsed": false
   },
   "outputs": [],
   "source": [
    "target = 'shiny gold'\n",
    "target_containers = set(contained_to_container[target])\n",
    "\n",
    "new_target_containers = set(target_containers)\n",
    "while True:\n",
    "    for c in list(target_containers):\n",
    "        new_target_containers.update(contained_to_container[c])\n",
    "\n",
    "    if target_containers == new_target_containers:\n",
    "        break\n",
    "\n",
    "    target_containers = set(new_target_containers)"
   ]
  },
  {
   "cell_type": "code",
   "execution_count": 8,
   "metadata": {
    "ExecuteTime": {
     "end_time": "2020-12-08T11:26:46.251984Z",
     "start_time": "2020-12-08T12:26:46.246973+01:00"
    },
    "collapsed": false
   },
   "outputs": [
    {
     "data": {
      "text/plain": [
       "({'bright white', 'dark orange', 'light red', 'muted yellow'},\n",
       " {'bright white', 'dark orange', 'light red', 'muted yellow'})"
      ]
     },
     "execution_count": 8,
     "metadata": {},
     "output_type": "execute_result"
    }
   ],
   "source": [
    "target_containers, new_target_containers"
   ]
  },
  {
   "cell_type": "code",
   "execution_count": 9,
   "metadata": {
    "ExecuteTime": {
     "end_time": "2020-12-08T11:26:46.258922Z",
     "start_time": "2020-12-08T12:26:46.254659+01:00"
    },
    "collapsed": false
   },
   "outputs": [
    {
     "data": {
      "text/plain": [
       "4"
      ]
     },
     "execution_count": 9,
     "metadata": {},
     "output_type": "execute_result"
    }
   ],
   "source": [
    "len(target_containers)"
   ]
  },
  {
   "cell_type": "markdown",
   "metadata": {},
   "source": [
    "# Part 1"
   ]
  },
  {
   "cell_type": "code",
   "execution_count": 10,
   "metadata": {
    "ExecuteTime": {
     "end_time": "2020-12-08T11:26:46.265257Z",
     "start_time": "2020-12-08T12:26:46.261937+01:00"
    },
    "collapsed": false
   },
   "outputs": [],
   "source": [
    "with open('input.txt', 'r') as f:\n",
    "    rules_str = f.read().strip().splitlines()"
   ]
  },
  {
   "cell_type": "code",
   "execution_count": 11,
   "metadata": {
    "ExecuteTime": {
     "end_time": "2020-12-08T11:26:46.271683Z",
     "start_time": "2020-12-08T12:26:46.268153+01:00"
    },
    "collapsed": false
   },
   "outputs": [
    {
     "data": {
      "text/plain": [
       "594"
      ]
     },
     "execution_count": 11,
     "metadata": {},
     "output_type": "execute_result"
    }
   ],
   "source": [
    "len(rules_str)"
   ]
  },
  {
   "cell_type": "code",
   "execution_count": 12,
   "metadata": {
    "ExecuteTime": {
     "end_time": "2020-12-08T11:26:46.287806Z",
     "start_time": "2020-12-08T12:26:46.274762+01:00"
    },
    "collapsed": false
   },
   "outputs": [
    {
     "data": {
      "text/plain": [
       "594"
      ]
     },
     "execution_count": 12,
     "metadata": {},
     "output_type": "execute_result"
    }
   ],
   "source": [
    "rules = [parse_rule_str(r) for r in rules_str]\n",
    "rules = dict(rules)\n",
    "len(rules)"
   ]
  },
  {
   "cell_type": "code",
   "execution_count": 13,
   "metadata": {
    "ExecuteTime": {
     "end_time": "2020-12-08T11:26:46.294725Z",
     "start_time": "2020-12-08T12:26:46.290232+01:00"
    },
    "collapsed": false
   },
   "outputs": [
    {
     "data": {
      "text/plain": [
       "['dark brown', 'shiny gold', 'clear plum', 'faded teal']"
      ]
     },
     "execution_count": 13,
     "metadata": {},
     "output_type": "execute_result"
    }
   ],
   "source": [
    "rules['mirrored green']"
   ]
  },
  {
   "cell_type": "code",
   "execution_count": 14,
   "metadata": {
    "ExecuteTime": {
     "end_time": "2020-12-08T11:26:46.301417Z",
     "start_time": "2020-12-08T12:26:46.296783+01:00"
    },
    "collapsed": true
   },
   "outputs": [],
   "source": [
    "# Revert dictionary\n",
    "target = 'shiny gold'\n",
    "rules_not_target = dict(rules)\n",
    "del rules_not_target[target]\n",
    "\n",
    "contained_to_container = defaultdict(list)\n",
    "for container, all_contained in rules_not_target.items():\n",
    "    for contained in all_contained:\n",
    "        contained_to_container[contained].append(container)"
   ]
  },
  {
   "cell_type": "code",
   "execution_count": 15,
   "metadata": {
    "ExecuteTime": {
     "end_time": "2020-12-08T11:26:46.310352Z",
     "start_time": "2020-12-08T12:26:46.303650+01:00"
    },
    "collapsed": false
   },
   "outputs": [],
   "source": [
    "target = 'shiny gold'\n",
    "target_containers = set(contained_to_container[target])\n",
    "\n",
    "new_target_containers = set(target_containers)\n",
    "while True:\n",
    "    for c in list(target_containers):\n",
    "        new_target_containers.update(contained_to_container[c])\n",
    "\n",
    "    if target_containers == new_target_containers:\n",
    "        break\n",
    "\n",
    "    target_containers = set(new_target_containers)"
   ]
  },
  {
   "cell_type": "code",
   "execution_count": 16,
   "metadata": {
    "ExecuteTime": {
     "end_time": "2020-12-08T11:26:46.316581Z",
     "start_time": "2020-12-08T12:26:46.312423+01:00"
    },
    "collapsed": false
   },
   "outputs": [
    {
     "data": {
      "text/plain": [
       "179"
      ]
     },
     "execution_count": 16,
     "metadata": {},
     "output_type": "execute_result"
    }
   ],
   "source": [
    "len(target_containers)"
   ]
  },
  {
   "cell_type": "markdown",
   "metadata": {},
   "source": [
    "# Part 2"
   ]
  },
  {
   "cell_type": "code",
   "execution_count": 17,
   "metadata": {
    "ExecuteTime": {
     "end_time": "2020-12-08T11:26:46.320947Z",
     "start_time": "2020-12-08T12:26:46.318744+01:00"
    },
    "collapsed": true
   },
   "outputs": [],
   "source": [
    "expected_n_bags = 32"
   ]
  },
  {
   "cell_type": "code",
   "execution_count": 18,
   "metadata": {
    "ExecuteTime": {
     "end_time": "2020-12-08T11:26:46.328268Z",
     "start_time": "2020-12-08T12:26:46.323061+01:00"
    },
    "collapsed": true
   },
   "outputs": [],
   "source": [
    "def parse_rule_str(r):\n",
    "    groups = re.findall(n_color_re, r)\n",
    "    \n",
    "    top_color = groups[0][1]\n",
    "    if top_color.endswith('bags contain no other'):\n",
    "        return top_color[:-22], []\n",
    "    contains = [(c, int(n)) for n, c in groups[1:]]\n",
    "    return top_color, contains\n",
    "\n"
   ]
  },
  {
   "cell_type": "code",
   "execution_count": 19,
   "metadata": {
    "ExecuteTime": {
     "end_time": "2020-12-08T11:26:46.335842Z",
     "start_time": "2020-12-08T12:26:46.330284+01:00"
    },
    "collapsed": false
   },
   "outputs": [
    {
     "data": {
      "text/plain": [
       "9"
      ]
     },
     "execution_count": 19,
     "metadata": {},
     "output_type": "execute_result"
    }
   ],
   "source": [
    "rules_str = test_case.strip().splitlines()\n",
    "rules_str\n",
    "\n",
    "rules = [parse_rule_str(r) for r in rules_str]\n",
    "rules = dict(rules)\n",
    "len(rules)"
   ]
  },
  {
   "cell_type": "code",
   "execution_count": 20,
   "metadata": {
    "ExecuteTime": {
     "end_time": "2020-12-08T11:26:46.343653Z",
     "start_time": "2020-12-08T12:26:46.338084+01:00"
    },
    "collapsed": false
   },
   "outputs": [],
   "source": [
    "def count_inside(color, multiplier=1):\n",
    "    inside = dict(rules[color])\n",
    "    if len(inside) == 0:\n",
    "        return multiplier\n",
    "    \n",
    "    tot = 0\n",
    "    for c, n in inside.items():\n",
    "        tot += count_inside(c, multiplier=n)\n",
    "    \n",
    "    return tot * multiplier + multiplier\n"
   ]
  },
  {
   "cell_type": "code",
   "execution_count": 21,
   "metadata": {
    "ExecuteTime": {
     "end_time": "2020-12-08T11:26:46.350015Z",
     "start_time": "2020-12-08T12:26:46.345936+01:00"
    },
    "collapsed": false
   },
   "outputs": [
    {
     "data": {
      "text/plain": [
       "32"
      ]
     },
     "execution_count": 21,
     "metadata": {},
     "output_type": "execute_result"
    }
   ],
   "source": [
    "target_color = 'shiny gold'\n",
    "count_inside(target_color) - 1"
   ]
  },
  {
   "cell_type": "code",
   "execution_count": 22,
   "metadata": {
    "ExecuteTime": {
     "end_time": "2020-12-08T11:26:46.354805Z",
     "start_time": "2020-12-08T12:26:46.352247+01:00"
    },
    "collapsed": false
   },
   "outputs": [],
   "source": [
    "target_color = 'shiny gold'\n",
    "assert count_inside(target_color) - 1 == expected_n_bags"
   ]
  },
  {
   "cell_type": "code",
   "execution_count": 23,
   "metadata": {
    "ExecuteTime": {
     "end_time": "2020-12-08T11:26:46.363357Z",
     "start_time": "2020-12-08T12:26:46.356718+01:00"
    },
    "collapsed": false
   },
   "outputs": [
    {
     "data": {
      "text/plain": [
       "7"
      ]
     },
     "execution_count": 23,
     "metadata": {},
     "output_type": "execute_result"
    }
   ],
   "source": [
    "test_case_2 = \"\"\"\n",
    "shiny gold bags contain 2 dark red bags.\n",
    "dark red bags contain 2 dark orange bags.\n",
    "dark orange bags contain 2 dark yellow bags.\n",
    "dark yellow bags contain 2 dark green bags.\n",
    "dark green bags contain 2 dark blue bags.\n",
    "dark blue bags contain 2 dark violet bags.\n",
    "dark violet bags contain no other bags.\n",
    "\"\"\"\n",
    "\n",
    "expected_n_bags_2 = 126\n",
    "\n",
    "rules_str = test_case_2.strip().splitlines()\n",
    "rules = [parse_rule_str(r) for r in rules_str]\n",
    "rules = dict(rules)\n",
    "len(rules)"
   ]
  },
  {
   "cell_type": "code",
   "execution_count": 24,
   "metadata": {
    "ExecuteTime": {
     "end_time": "2020-12-08T11:26:46.368824Z",
     "start_time": "2020-12-08T12:26:46.365566+01:00"
    },
    "collapsed": false
   },
   "outputs": [],
   "source": [
    "target_color = 'shiny gold'\n",
    "assert count_inside(target_color) - 1 == expected_n_bags_2"
   ]
  },
  {
   "cell_type": "code",
   "execution_count": 25,
   "metadata": {
    "ExecuteTime": {
     "end_time": "2020-12-08T11:26:46.386817Z",
     "start_time": "2020-12-08T12:26:46.371773+01:00"
    },
    "collapsed": false
   },
   "outputs": [
    {
     "data": {
      "text/plain": [
       "594"
      ]
     },
     "execution_count": 25,
     "metadata": {},
     "output_type": "execute_result"
    }
   ],
   "source": [
    "with open('input.txt', 'r') as f:\n",
    "    rules_str = f.read().strip().splitlines()\n",
    "rules = [parse_rule_str(r) for r in rules_str]\n",
    "rules = dict(rules)\n",
    "len(rules)"
   ]
  },
  {
   "cell_type": "code",
   "execution_count": 26,
   "metadata": {
    "ExecuteTime": {
     "end_time": "2020-12-08T11:26:46.392755Z",
     "start_time": "2020-12-08T12:26:46.388657+01:00"
    },
    "collapsed": false
   },
   "outputs": [
    {
     "data": {
      "text/plain": [
       "18925"
      ]
     },
     "execution_count": 26,
     "metadata": {},
     "output_type": "execute_result"
    }
   ],
   "source": [
    "target_color = 'shiny gold'\n",
    "count_inside(target_color) - 1"
   ]
  },
  {
   "cell_type": "code",
   "execution_count": null,
   "metadata": {
    "collapsed": true
   },
   "outputs": [],
   "source": []
  }
 ],
 "metadata": {
  "hide_input": false,
  "kernelspec": {
   "display_name": "Python [conda env:scratch]",
   "language": "python",
   "name": "conda-env-scratch-py"
  },
  "language_info": {
   "codemirror_mode": {
    "name": "ipython",
    "version": 3
   },
   "file_extension": ".py",
   "mimetype": "text/x-python",
   "name": "python",
   "nbconvert_exporter": "python",
   "pygments_lexer": "ipython3",
   "version": "3.5.5"
  },
  "toc": {
   "nav_menu": {
    "height": "48px",
    "width": "252px"
   },
   "navigate_menu": true,
   "number_sections": true,
   "sideBar": true,
   "threshold": 4,
   "toc_cell": false,
   "toc_section_display": "block",
   "toc_window_display": false
  }
 },
 "nbformat": 4,
 "nbformat_minor": 2
}
