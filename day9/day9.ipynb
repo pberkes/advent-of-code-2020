{
 "cells": [
  {
   "cell_type": "markdown",
   "metadata": {},
   "source": [
    "# Part 1"
   ]
  },
  {
   "cell_type": "code",
   "execution_count": 5,
   "metadata": {
    "ExecuteTime": {
     "end_time": "2020-12-09T07:57:16.385243Z",
     "start_time": "2020-12-09T08:57:16.381444+01:00"
    },
    "collapsed": true
   },
   "outputs": [],
   "source": [
    "test_case = \"\"\"\n",
    "35\n",
    "20\n",
    "15\n",
    "25\n",
    "47\n",
    "40\n",
    "62\n",
    "55\n",
    "65\n",
    "95\n",
    "102\n",
    "117\n",
    "150\n",
    "182\n",
    "127\n",
    "219\n",
    "299\n",
    "277\n",
    "309\n",
    "576\n",
    "\"\"\"\n",
    "\n",
    "invalid = [127]"
   ]
  },
  {
   "cell_type": "code",
   "execution_count": 6,
   "metadata": {
    "ExecuteTime": {
     "end_time": "2020-12-09T07:57:16.533970Z",
     "start_time": "2020-12-09T08:57:16.530713+01:00"
    },
    "collapsed": true
   },
   "outputs": [],
   "source": [
    "def parse_numbers(txt):\n",
    "    return [int(n) for n in txt.strip().splitlines()]"
   ]
  },
  {
   "cell_type": "code",
   "execution_count": 7,
   "metadata": {
    "ExecuteTime": {
     "end_time": "2020-12-09T07:57:16.685492Z",
     "start_time": "2020-12-09T08:57:16.681029+01:00"
    },
    "collapsed": false
   },
   "outputs": [
    {
     "data": {
      "text/plain": [
       "[35,\n",
       " 20,\n",
       " 15,\n",
       " 25,\n",
       " 47,\n",
       " 40,\n",
       " 62,\n",
       " 55,\n",
       " 65,\n",
       " 95,\n",
       " 102,\n",
       " 117,\n",
       " 150,\n",
       " 182,\n",
       " 127,\n",
       " 219,\n",
       " 299,\n",
       " 277,\n",
       " 309,\n",
       " 576]"
      ]
     },
     "execution_count": 7,
     "metadata": {},
     "output_type": "execute_result"
    }
   ],
   "source": [
    "parse_numbers(test_case)"
   ]
  },
  {
   "cell_type": "code",
   "execution_count": 12,
   "metadata": {
    "ExecuteTime": {
     "end_time": "2020-12-09T08:05:09.860249Z",
     "start_time": "2020-12-09T09:05:09.855599+01:00"
    },
    "collapsed": true
   },
   "outputs": [],
   "source": [
    "def window_and_next(numbers, window_size):\n",
    "    n_numbers = len(numbers)\n",
    "    idx = window_size\n",
    "    while idx < n_numbers:\n",
    "        window = sorted(numbers[idx-window_size:idx])\n",
    "        current = numbers[idx]\n",
    "        yield window, current\n",
    "        idx += 1"
   ]
  },
  {
   "cell_type": "code",
   "execution_count": 21,
   "metadata": {
    "ExecuteTime": {
     "end_time": "2020-12-09T08:06:59.260986Z",
     "start_time": "2020-12-09T09:06:59.255094+01:00"
    },
    "collapsed": true
   },
   "outputs": [],
   "source": [
    "def is_sum(target, window):\n",
    "    result = False\n",
    "    try:\n",
    "        for n1 in window:\n",
    "            for n2 in window[::-1]:\n",
    "                if n1 + n2 == target:\n",
    "                    raise RuntimeError('solution found')\n",
    "                if n1 + n2 < target:\n",
    "                    break\n",
    "    except RuntimeError:\n",
    "        result = True\n",
    "        \n",
    "    return result"
   ]
  },
  {
   "cell_type": "code",
   "execution_count": 23,
   "metadata": {
    "ExecuteTime": {
     "end_time": "2020-12-09T08:07:19.120199Z",
     "start_time": "2020-12-09T09:07:19.115921+01:00"
    },
    "collapsed": false
   },
   "outputs": [
    {
     "name": "stdout",
     "output_type": "stream",
     "text": [
      "NOT 127\n"
     ]
    }
   ],
   "source": [
    "for window, current in window_and_next(parse_numbers(test_case), 5):\n",
    "    result = is_sum(current, window)\n",
    "    if not result:\n",
    "        print('NOT', current)\n",
    "        break"
   ]
  },
  {
   "cell_type": "code",
   "execution_count": 27,
   "metadata": {
    "ExecuteTime": {
     "end_time": "2020-12-09T08:09:52.801772Z",
     "start_time": "2020-12-09T09:09:52.797754+01:00"
    },
    "collapsed": true
   },
   "outputs": [],
   "source": [
    "with open('input.txt', 'r') as f:\n",
    "    txt = f.read()\n",
    "\n",
    "numbers = parse_numbers(txt)\n"
   ]
  },
  {
   "cell_type": "code",
   "execution_count": 28,
   "metadata": {
    "ExecuteTime": {
     "end_time": "2020-12-09T08:09:53.996617Z",
     "start_time": "2020-12-09T09:09:53.982703+01:00"
    },
    "collapsed": false,
    "scrolled": true
   },
   "outputs": [
    {
     "name": "stdout",
     "output_type": "stream",
     "text": [
      "NOT 675280050\n"
     ]
    }
   ],
   "source": [
    "for window, current in window_and_next(numbers, 25):\n",
    "    result = is_sum(current, window)\n",
    "    if not result:\n",
    "        print('NOT', current)\n",
    "        break"
   ]
  },
  {
   "cell_type": "markdown",
   "metadata": {},
   "source": [
    "# Part 2"
   ]
  },
  {
   "cell_type": "code",
   "execution_count": 33,
   "metadata": {
    "ExecuteTime": {
     "end_time": "2020-12-09T08:12:43.435073Z",
     "start_time": "2020-12-09T09:12:43.281802+01:00"
    },
    "collapsed": true
   },
   "outputs": [],
   "source": [
    "import numpy as np"
   ]
  },
  {
   "cell_type": "code",
   "execution_count": 39,
   "metadata": {
    "ExecuteTime": {
     "end_time": "2020-12-09T08:15:41.954521Z",
     "start_time": "2020-12-09T09:15:40.064104+01:00"
    },
    "collapsed": false
   },
   "outputs": [
    {
     "name": "stdout",
     "output_type": "stream",
     "text": [
      "SOLUTION 28897192 67184481 [28897192, 36027566, 29971341, 37424124, 32516906, 30851516, 31185966, 51988916, 32257150, 52939136, 34927331, 67184481, 38597126, 44053552, 40538664, 41203828, 44715255]\n"
     ]
    },
    {
     "ename": "RuntimeError",
     "evalue": "solution found",
     "output_type": "error",
     "traceback": [
      "\u001b[0;31m---------------------------------------------------------------------------\u001b[0m",
      "\u001b[0;31mRuntimeError\u001b[0m                              Traceback (most recent call last)",
      "\u001b[0;32m<ipython-input-39-a49123595257>\u001b[0m in \u001b[0;36m<module>\u001b[0;34m()\u001b[0m\n\u001b[1;32m      9\u001b[0m         \u001b[0;32mif\u001b[0m \u001b[0msum_\u001b[0m \u001b[0;34m==\u001b[0m \u001b[0mtarget\u001b[0m\u001b[0;34m:\u001b[0m\u001b[0;34m\u001b[0m\u001b[0m\n\u001b[1;32m     10\u001b[0m             \u001b[0mprint\u001b[0m\u001b[0;34m(\u001b[0m\u001b[0;34m'SOLUTION'\u001b[0m\u001b[0;34m,\u001b[0m \u001b[0mnp\u001b[0m\u001b[0;34m.\u001b[0m\u001b[0mmin\u001b[0m\u001b[0;34m(\u001b[0m\u001b[0mwindow\u001b[0m\u001b[0;34m)\u001b[0m\u001b[0;34m,\u001b[0m \u001b[0mnp\u001b[0m\u001b[0;34m.\u001b[0m\u001b[0mmax\u001b[0m\u001b[0;34m(\u001b[0m\u001b[0mwindow\u001b[0m\u001b[0;34m)\u001b[0m\u001b[0;34m,\u001b[0m \u001b[0mwindow\u001b[0m\u001b[0;34m)\u001b[0m\u001b[0;34m\u001b[0m\u001b[0m\n\u001b[0;32m---> 11\u001b[0;31m             \u001b[0;32mraise\u001b[0m \u001b[0mRuntimeError\u001b[0m\u001b[0;34m(\u001b[0m\u001b[0;34m'solution found'\u001b[0m\u001b[0;34m)\u001b[0m\u001b[0;34m\u001b[0m\u001b[0m\n\u001b[0m\u001b[1;32m     12\u001b[0m         \u001b[0;32melif\u001b[0m \u001b[0msum_\u001b[0m \u001b[0;34m>\u001b[0m \u001b[0mtarget\u001b[0m\u001b[0;34m:\u001b[0m\u001b[0;34m\u001b[0m\u001b[0m\n\u001b[1;32m     13\u001b[0m             \u001b[0;32mbreak\u001b[0m\u001b[0;34m\u001b[0m\u001b[0m\n",
      "\u001b[0;31mRuntimeError\u001b[0m: solution found"
     ]
    }
   ],
   "source": [
    "target = 675280050\n",
    "idx = 0\n",
    "\n",
    "for idx in range(len(numbers)):\n",
    "    window_size = 3\n",
    "    while True:\n",
    "        window = numbers[idx:idx+window_size]\n",
    "        sum_ = np.sum(window)\n",
    "        if sum_ == target:\n",
    "            print('SOLUTION', np.min(window), np.max(window), window)\n",
    "            raise RuntimeError('solution found')\n",
    "        elif sum_ > target:\n",
    "            break\n",
    "\n",
    "        window_size += 1"
   ]
  },
  {
   "cell_type": "code",
   "execution_count": 40,
   "metadata": {
    "ExecuteTime": {
     "end_time": "2020-12-09T08:15:53.735469Z",
     "start_time": "2020-12-09T09:15:53.731515+01:00"
    },
    "collapsed": false
   },
   "outputs": [
    {
     "data": {
      "text/plain": [
       "96081673"
      ]
     },
     "execution_count": 40,
     "metadata": {},
     "output_type": "execute_result"
    }
   ],
   "source": [
    "28897192 + 67184481"
   ]
  },
  {
   "cell_type": "code",
   "execution_count": null,
   "metadata": {
    "collapsed": true
   },
   "outputs": [],
   "source": []
  }
 ],
 "metadata": {
  "hide_input": false,
  "kernelspec": {
   "display_name": "Python [conda env:scratch]",
   "language": "python",
   "name": "conda-env-scratch-py"
  },
  "language_info": {
   "codemirror_mode": {
    "name": "ipython",
    "version": 3
   },
   "file_extension": ".py",
   "mimetype": "text/x-python",
   "name": "python",
   "nbconvert_exporter": "python",
   "pygments_lexer": "ipython3",
   "version": "3.5.5"
  },
  "toc": {
   "nav_menu": {
    "height": "48px",
    "width": "252px"
   },
   "navigate_menu": true,
   "number_sections": true,
   "sideBar": true,
   "threshold": 4,
   "toc_cell": false,
   "toc_section_display": "block",
   "toc_window_display": false
  }
 },
 "nbformat": 4,
 "nbformat_minor": 2
}
