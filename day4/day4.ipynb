{
 "cells": [
  {
   "cell_type": "markdown",
   "metadata": {},
   "source": [
    "# Part 1"
   ]
  },
  {
   "cell_type": "code",
   "execution_count": 14,
   "metadata": {
    "ExecuteTime": {
     "end_time": "2020-12-04T09:17:48.806672Z",
     "start_time": "2020-12-04T10:17:48.803311+01:00"
    },
    "collapsed": true
   },
   "outputs": [],
   "source": [
    "test_cases = [\n",
    "    \"ecl:gry pid:860033327 eyr:2020 hcl:#fffffd byr:1937 iyr:2017 cid:147 hgt:183cm\",\n",
    "    \"iyr:2013 ecl:amb cid:350 eyr:2023 pid:028048884 hcl:#cfa07d byr:1929\",\n",
    "    \"hcl:#ae17e1 iyr:2013 eyr:2024 ecl:brn pid:760753108 byr:1931 hgt:179cm\",\n",
    "    \"hcl:#cfa07d eyr:2025 pid:166559648 iyr:2011 ecl:brn hgt:59in\",\n",
    "]\n",
    "expected = [True, False, True, False]"
   ]
  },
  {
   "cell_type": "code",
   "execution_count": 15,
   "metadata": {
    "ExecuteTime": {
     "end_time": "2020-12-04T09:17:49.511652Z",
     "start_time": "2020-12-04T10:17:49.508250+01:00"
    },
    "collapsed": true
   },
   "outputs": [],
   "source": [
    "def parse_passport(txt):\n",
    "    key_values = [entry.split(':') for entry in txt.split(' ')]\n",
    "    return dict(key_values)"
   ]
  },
  {
   "cell_type": "code",
   "execution_count": 23,
   "metadata": {
    "ExecuteTime": {
     "end_time": "2020-12-04T09:19:05.133655Z",
     "start_time": "2020-12-04T10:19:05.129270+01:00"
    },
    "collapsed": false
   },
   "outputs": [],
   "source": [
    "NEEDED_FIELDS = {'eyr', 'byr', 'ecl', 'hcl', 'pid', 'iyr', 'hgt'}\n",
    "\n",
    "def is_passport_valid(txt):\n",
    "    entries = parse_passport(txt)\n",
    "    missing_fields = NEEDED_FIELDS.difference(set(entries.keys()))\n",
    "    return len(missing_fields) == 0"
   ]
  },
  {
   "cell_type": "code",
   "execution_count": 28,
   "metadata": {
    "ExecuteTime": {
     "end_time": "2020-12-04T09:19:54.016129Z",
     "start_time": "2020-12-04T10:19:54.013433+01:00"
    },
    "collapsed": false
   },
   "outputs": [],
   "source": [
    "for txt, exp in zip(test_cases, expected):\n",
    "    assert is_passport_valid(txt) == exp"
   ]
  },
  {
   "cell_type": "code",
   "execution_count": 46,
   "metadata": {
    "ExecuteTime": {
     "end_time": "2020-12-04T09:23:35.309269Z",
     "start_time": "2020-12-04T10:23:35.305905+01:00"
    },
    "collapsed": true
   },
   "outputs": [],
   "source": [
    "with open('input.txt', 'r') as f:\n",
    "    cases = f.read().strip()"
   ]
  },
  {
   "cell_type": "code",
   "execution_count": 47,
   "metadata": {
    "ExecuteTime": {
     "end_time": "2020-12-04T09:23:35.492220Z",
     "start_time": "2020-12-04T10:23:35.489179+01:00"
    },
    "collapsed": false
   },
   "outputs": [],
   "source": [
    "passports = [p.replace('\\n', ' ') for p in cases.split('\\n\\n')]"
   ]
  },
  {
   "cell_type": "code",
   "execution_count": 49,
   "metadata": {
    "ExecuteTime": {
     "end_time": "2020-12-04T09:23:41.658963Z",
     "start_time": "2020-12-04T10:23:41.651847+01:00"
    },
    "collapsed": false
   },
   "outputs": [
    {
     "data": {
      "text/plain": [
       "213"
      ]
     },
     "execution_count": 49,
     "metadata": {},
     "output_type": "execute_result"
    }
   ],
   "source": [
    "n_valid = 0\n",
    "for txt in passports:\n",
    "    n_valid += is_passport_valid(txt)\n",
    "\n",
    "n_valid"
   ]
  },
  {
   "cell_type": "markdown",
   "metadata": {},
   "source": [
    "# Part 2"
   ]
  },
  {
   "cell_type": "code",
   "execution_count": 188,
   "metadata": {
    "ExecuteTime": {
     "end_time": "2020-12-04T09:52:14.502369Z",
     "start_time": "2020-12-04T10:52:14.497227+01:00"
    },
    "collapsed": true
   },
   "outputs": [],
   "source": [
    "test_cases_invalid = [\n",
    "    \"eyr:1972 cid:100 hcl:#18171d ecl:amb hgt:170 pid:186cm iyr:2018 byr:1926\",\n",
    "    \"iyr:2019 hcl:#602927 eyr:1967 hgt:170cm ecl:grn pid:012533040 byr:1946\",\n",
    "    \"hcl:dab227 iyr:2012 ecl:brn hgt:182cm pid:021572410 eyr:2020 byr:1992 cid:277\",\n",
    "    \"hgt:59cm ecl:zzz eyr:2038 hcl:74454a iyr:2023 pid:3556412378 byr:2007\",\n",
    "    \"iyr:2010 hgt:190in hcl:#b6652a ecl:blu byr:1944 eyr:2021 pid:093154719\",\n",
    "    \"iyr:2010 hgt:190 hcl:#b6652a ecl:blu byr:1944 eyr:2021 pid:093154719\",\n",
    "    \"iyr:2010 hgt:12cm hcl:#b6652a ecl:blu byr:1944 eyr:2021 pid:093154719\",\n",
    "    \"pid:087499704 hgt:74in iyr:2012 eyr:2030 byr:1980 hcl:#623a2f\",\n",
    "    \"pid:0123456789 hgt:74in iyr:2012 eyr:2030 byr:1980 hcl:#623a2f\",\n",
    "    \"pid:ABC hgt:74in ecl:grn iyr:2012 eyr:2030 byr:1980 hcl:#623a2f\",\n",
    "    \"pid:#430c70 hgt:74in ecl:grn iyr:2012 eyr:2030 byr:1980 hcl:#623a2f\",\n",
    "]\n",
    "\n",
    "test_cases_valid = [\n",
    "    \"pid:087499704 hgt:74in ecl:grn iyr:2012 eyr:2030 byr:1980 hcl:#623a2f\",\n",
    "    \"eyr:2029 ecl:blu cid:129 byr:1989 iyr:2014 pid:896056539 hcl:#a97842 hgt:165cm\",\n",
    "    \"hcl:#888785 hgt:164cm byr:2001 iyr:2015 cid:88 pid:545766238 ecl:hzl eyr:2022\",\n",
    "    \"iyr:2010 hgt:158cm hcl:#b6652a ecl:blu byr:1944 eyr:2021 pid:093154719\",\n",
    "]\n"
   ]
  },
  {
   "cell_type": "code",
   "execution_count": 189,
   "metadata": {
    "ExecuteTime": {
     "end_time": "2020-12-04T09:52:14.813821Z",
     "start_time": "2020-12-04T10:52:14.810242+01:00"
    },
    "collapsed": false
   },
   "outputs": [
    {
     "data": {
      "text/plain": [
       "dict_keys(['eyr', 'byr', 'ecl', 'hcl', 'pid', 'iyr', 'cid', 'hgt'])"
      ]
     },
     "execution_count": 189,
     "metadata": {},
     "output_type": "execute_result"
    }
   ],
   "source": [
    "parse_passport(test_cases[0]).keys()"
   ]
  },
  {
   "cell_type": "code",
   "execution_count": 193,
   "metadata": {
    "ExecuteTime": {
     "end_time": "2020-12-04T09:52:22.031799Z",
     "start_time": "2020-12-04T10:52:21.995433+01:00"
    },
    "collapsed": false
   },
   "outputs": [],
   "source": [
    "import re\n",
    "\n",
    "def always_valid(x):\n",
    "    return True\n",
    "\n",
    "def byr_validate(v):\n",
    "    date = int(v)\n",
    "    return len(v) == 4 and 1920 <= date <= 2002\n",
    "\n",
    "def iyr_validate(v):\n",
    "    date = int(v)\n",
    "    return len(v) == 4 and 2010 <= date <= 2020\n",
    "\n",
    "def eyr_validate(v):\n",
    "    date = int(v)\n",
    "    return len(v) == 4 and 2020 <= date <= 2030\n",
    "\n",
    "def ecl_validate(v):\n",
    "    return v in {'amb', 'blu', 'brn', 'gry', 'grn', 'hzl', 'oth'}\n",
    "\n",
    "def hcl_validate(v):\n",
    "    regex = r\"#[0-9a-f]{6}\"\n",
    "    return len(re.findall(regex, v)) == 1\n",
    "\n",
    "def hgt_validate(v):\n",
    "    if v.endswith('cm'):\n",
    "        return 150 <= int(v[:-2]) <= 193\n",
    "    if v.endswith('in'):\n",
    "        return 59 <= int(v[:-2]) <= 76\n",
    "    return False\n",
    "\n",
    "def pid_validate(v):\n",
    "    try:\n",
    "        int(v)\n",
    "    except ValueError:\n",
    "        return False\n",
    "    return len(v) == 9\n",
    "\n",
    "validation_functions = {\n",
    "    'byr': byr_validate,\n",
    "    'cid': always_valid,\n",
    "    'ecl': ecl_validate,\n",
    "    'eyr': eyr_validate,\n",
    "    'hcl': hcl_validate,\n",
    "    'hgt': hgt_validate,\n",
    "    'iyr': iyr_validate,\n",
    "    'pid': pid_validate,\n",
    "}\n",
    "\n",
    "def is_passport_valid(txt):\n",
    "    entries = parse_passport(txt)\n",
    "    missing_fields = NEEDED_FIELDS.difference(set(entries))\n",
    "    if len(missing_fields) > 0:\n",
    "        return False\n",
    "    \n",
    "    for key, value in entries.items():\n",
    "        if not validation_functions[key](value):\n",
    "            return False\n",
    "    \n",
    "    return True"
   ]
  },
  {
   "cell_type": "code",
   "execution_count": 194,
   "metadata": {
    "ExecuteTime": {
     "end_time": "2020-12-04T09:52:22.178770Z",
     "start_time": "2020-12-04T10:52:22.175095+01:00"
    },
    "collapsed": false
   },
   "outputs": [
    {
     "name": "stdout",
     "output_type": "stream",
     "text": [
      "pid:087499704 hgt:74in ecl:grn iyr:2012 eyr:2030 byr:1980 hcl:#623a2f\n",
      "eyr:2029 ecl:blu cid:129 byr:1989 iyr:2014 pid:896056539 hcl:#a97842 hgt:165cm\n",
      "hcl:#888785 hgt:164cm byr:2001 iyr:2015 cid:88 pid:545766238 ecl:hzl eyr:2022\n",
      "iyr:2010 hgt:158cm hcl:#b6652a ecl:blu byr:1944 eyr:2021 pid:093154719\n"
     ]
    }
   ],
   "source": [
    "for txt in test_cases_valid:\n",
    "    print(txt)\n",
    "    assert is_passport_valid(txt)"
   ]
  },
  {
   "cell_type": "code",
   "execution_count": 195,
   "metadata": {
    "ExecuteTime": {
     "end_time": "2020-12-04T09:52:22.538240Z",
     "start_time": "2020-12-04T10:52:22.534645+01:00"
    },
    "collapsed": false
   },
   "outputs": [
    {
     "name": "stdout",
     "output_type": "stream",
     "text": [
      "eyr:1972 cid:100 hcl:#18171d ecl:amb hgt:170 pid:186cm iyr:2018 byr:1926\n",
      "iyr:2019 hcl:#602927 eyr:1967 hgt:170cm ecl:grn pid:012533040 byr:1946\n",
      "hcl:dab227 iyr:2012 ecl:brn hgt:182cm pid:021572410 eyr:2020 byr:1992 cid:277\n",
      "hgt:59cm ecl:zzz eyr:2038 hcl:74454a iyr:2023 pid:3556412378 byr:2007\n",
      "iyr:2010 hgt:190in hcl:#b6652a ecl:blu byr:1944 eyr:2021 pid:093154719\n",
      "iyr:2010 hgt:190 hcl:#b6652a ecl:blu byr:1944 eyr:2021 pid:093154719\n",
      "iyr:2010 hgt:12cm hcl:#b6652a ecl:blu byr:1944 eyr:2021 pid:093154719\n",
      "pid:087499704 hgt:74in iyr:2012 eyr:2030 byr:1980 hcl:#623a2f\n",
      "pid:0123456789 hgt:74in iyr:2012 eyr:2030 byr:1980 hcl:#623a2f\n",
      "pid:ABC hgt:74in ecl:grn iyr:2012 eyr:2030 byr:1980 hcl:#623a2f\n",
      "pid:#430c70 hgt:74in ecl:grn iyr:2012 eyr:2030 byr:1980 hcl:#623a2f\n"
     ]
    }
   ],
   "source": [
    "for txt in test_cases_invalid:\n",
    "    print(txt)\n",
    "    assert not is_passport_valid(txt)"
   ]
  },
  {
   "cell_type": "code",
   "execution_count": 196,
   "metadata": {
    "ExecuteTime": {
     "end_time": "2020-12-04T09:52:23.280551Z",
     "start_time": "2020-12-04T10:52:23.272343+01:00"
    },
    "collapsed": false
   },
   "outputs": [
    {
     "data": {
      "text/plain": [
       "147"
      ]
     },
     "execution_count": 196,
     "metadata": {},
     "output_type": "execute_result"
    }
   ],
   "source": [
    "n_valid = 0\n",
    "for txt in passports:\n",
    "    n_valid += is_passport_valid(txt)\n",
    "\n",
    "n_valid"
   ]
  },
  {
   "cell_type": "code",
   "execution_count": null,
   "metadata": {
    "collapsed": true
   },
   "outputs": [],
   "source": []
  }
 ],
 "metadata": {
  "hide_input": false,
  "kernelspec": {
   "display_name": "Python [conda env:scratch]",
   "language": "python",
   "name": "conda-env-scratch-py"
  },
  "language_info": {
   "codemirror_mode": {
    "name": "ipython",
    "version": 3
   },
   "file_extension": ".py",
   "mimetype": "text/x-python",
   "name": "python",
   "nbconvert_exporter": "python",
   "pygments_lexer": "ipython3",
   "version": "3.5.5"
  },
  "toc": {
   "nav_menu": {
    "height": "48px",
    "width": "252px"
   },
   "navigate_menu": true,
   "number_sections": true,
   "sideBar": true,
   "threshold": 4,
   "toc_cell": false,
   "toc_section_display": "block",
   "toc_window_display": false
  }
 },
 "nbformat": 4,
 "nbformat_minor": 2
}
