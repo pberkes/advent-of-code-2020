{
 "cells": [
  {
   "cell_type": "code",
   "execution_count": 1,
   "metadata": {
    "ExecuteTime": {
     "end_time": "2020-12-08T11:35:26.878639Z",
     "start_time": "2020-12-08T12:35:26.874785+01:00"
    },
    "collapsed": true
   },
   "outputs": [],
   "source": [
    "test_instructions = \"\"\"\n",
    "nop +0\n",
    "acc +1\n",
    "jmp +4\n",
    "acc +3\n",
    "jmp -3\n",
    "acc -99\n",
    "acc +1\n",
    "jmp -4\n",
    "acc +6\n",
    "\"\"\".strip()"
   ]
  },
  {
   "cell_type": "code",
   "execution_count": 8,
   "metadata": {
    "ExecuteTime": {
     "end_time": "2020-12-08T12:53:08.195397Z",
     "start_time": "2020-12-08T13:53:08.191077+01:00"
    },
    "collapsed": true
   },
   "outputs": [],
   "source": [
    "def parse_instructions(txt):\n",
    "    instructions = []\n",
    "    for rows in txt.splitlines():\n",
    "        op, arg = rows.split(' ')\n",
    "        instructions.append((op, int(arg)))\n",
    "    return instructions"
   ]
  },
  {
   "cell_type": "code",
   "execution_count": 24,
   "metadata": {
    "ExecuteTime": {
     "end_time": "2020-12-08T13:09:58.390054Z",
     "start_time": "2020-12-08T14:09:58.382196+01:00"
    },
    "collapsed": false
   },
   "outputs": [
    {
     "data": {
      "text/plain": [
       "[('nop', 0),\n",
       " ('acc', 1),\n",
       " ('jmp', 4),\n",
       " ('acc', 3),\n",
       " ('jmp', -3),\n",
       " ('acc', -99),\n",
       " ('acc', 1),\n",
       " ('jmp', -4),\n",
       " ('acc', 6)]"
      ]
     },
     "execution_count": 24,
     "metadata": {},
     "output_type": "execute_result"
    }
   ],
   "source": [
    "instructions = parse_instructions(test_instructions)\n",
    "instructions"
   ]
  },
  {
   "cell_type": "code",
   "execution_count": 25,
   "metadata": {
    "ExecuteTime": {
     "end_time": "2020-12-08T13:09:59.610831Z",
     "start_time": "2020-12-08T14:09:59.597353+01:00"
    },
    "collapsed": true
   },
   "outputs": [],
   "source": [
    "def nop(arg, accumulator, idx):\n",
    "    return accumulator, idx + 1\n",
    "\n",
    "def acc(arg, accumulator, idx):\n",
    "    return accumulator + arg, idx + 1\n",
    "\n",
    "def jmp(arg, accumulator, idx):\n",
    "    return accumulator, idx + arg\n",
    "\n",
    "\n",
    "op_to_func = {\n",
    "    'nop': nop,\n",
    "    'acc': acc,\n",
    "    'jmp': jmp,\n",
    "}\n",
    "\n",
    "\n",
    "def execute_instructions(instructions):\n",
    "    accumulator = 0\n",
    "\n",
    "    trace = [0] * len(instructions)\n",
    "    idx = 0\n",
    "    while trace[idx] == 0:\n",
    "        trace[idx] = 1\n",
    "        op, arg = instructions[idx]\n",
    "        accumulator, idx = op_to_func[op](arg, accumulator, idx)\n",
    "    \n",
    "    return accumulator\n",
    "    "
   ]
  },
  {
   "cell_type": "code",
   "execution_count": 27,
   "metadata": {
    "ExecuteTime": {
     "end_time": "2020-12-08T13:10:02.794093Z",
     "start_time": "2020-12-08T14:10:02.790166+01:00"
    },
    "collapsed": false
   },
   "outputs": [
    {
     "data": {
      "text/plain": [
       "5"
      ]
     },
     "execution_count": 27,
     "metadata": {},
     "output_type": "execute_result"
    }
   ],
   "source": [
    "execute_instructions(parse_instructions(test_instructions))"
   ]
  },
  {
   "cell_type": "markdown",
   "metadata": {},
   "source": [
    "# Part 1"
   ]
  },
  {
   "cell_type": "code",
   "execution_count": 21,
   "metadata": {
    "ExecuteTime": {
     "end_time": "2020-12-08T12:57:30.457264Z",
     "start_time": "2020-12-08T13:57:30.452977+01:00"
    },
    "collapsed": true
   },
   "outputs": [],
   "source": [
    "with open('input.txt', 'r') as f:\n",
    "    txt = f.read()"
   ]
  },
  {
   "cell_type": "code",
   "execution_count": 22,
   "metadata": {
    "ExecuteTime": {
     "end_time": "2020-12-08T12:57:33.609660Z",
     "start_time": "2020-12-08T13:57:33.604691+01:00"
    },
    "collapsed": false
   },
   "outputs": [
    {
     "data": {
      "text/plain": [
       "1394"
      ]
     },
     "execution_count": 22,
     "metadata": {},
     "output_type": "execute_result"
    }
   ],
   "source": [
    "execute_instructions(parse_instructions(txt))"
   ]
  },
  {
   "cell_type": "markdown",
   "metadata": {},
   "source": [
    "# Part 2"
   ]
  },
  {
   "cell_type": "code",
   "execution_count": 32,
   "metadata": {
    "ExecuteTime": {
     "end_time": "2020-12-08T13:15:33.603886Z",
     "start_time": "2020-12-08T14:15:33.592384+01:00"
    },
    "collapsed": true
   },
   "outputs": [],
   "source": [
    "def execute_instructions_detect_loop(instructions):\n",
    "    accumulator = 0\n",
    "\n",
    "    trace = [0] * len(instructions)\n",
    "    idx = 0\n",
    "    while True:\n",
    "        if idx > len(instructions):\n",
    "            infinite_loop, error = False, True\n",
    "        \n",
    "        if idx == len(instructions):\n",
    "            infinite_loop, error = False, False\n",
    "            break\n",
    "\n",
    "        if trace[idx] > 0:\n",
    "            # Inifinte loop detected\n",
    "            infinite_loop, error = True, False\n",
    "            break\n",
    "        \n",
    "        trace[idx] = 1\n",
    "        op, arg = instructions[idx]\n",
    "        accumulator, idx = op_to_func[op](arg, accumulator, idx)\n",
    "\n",
    "    return accumulator, infinite_loop, error"
   ]
  },
  {
   "cell_type": "code",
   "execution_count": 34,
   "metadata": {
    "ExecuteTime": {
     "end_time": "2020-12-08T13:16:05.791712Z",
     "start_time": "2020-12-08T14:16:05.781992+01:00"
    },
    "collapsed": false
   },
   "outputs": [
    {
     "name": "stdout",
     "output_type": "stream",
     "text": [
      "nop 0\n",
      "0 True False\n",
      "acc 1\n",
      "jmp 4\n",
      "4 True False\n",
      "acc 3\n",
      "jmp -3\n",
      "-94 True False\n",
      "acc -99\n",
      "acc 1\n",
      "jmp -4\n",
      "8 False False\n"
     ]
    }
   ],
   "source": [
    "instructions = parse_instructions(test_instructions)\n",
    "for idx in range(len(instructions)):\n",
    "    op, arg = instructions[idx]\n",
    "    if op == 'nop':\n",
    "        mod_op = 'jmp'\n",
    "    elif op == 'jmp':\n",
    "        mod_op = 'nop'\n",
    "    else:\n",
    "        continue\n",
    "\n",
    "    modified_instructions = list(instructions)\n",
    "    modified_instructions[idx] = (mod_op, arg)\n",
    "    accumulator, infinite_loop, error = execute_instructions_detect_loop(modified_instructions)\n",
    "    print(accumulator, infinite_loop, error)\n",
    "    if not infinite_loop:\n",
    "        break"
   ]
  },
  {
   "cell_type": "code",
   "execution_count": 36,
   "metadata": {
    "ExecuteTime": {
     "end_time": "2020-12-08T13:17:11.549926Z",
     "start_time": "2020-12-08T14:17:11.508261+01:00"
    },
    "collapsed": false
   },
   "outputs": [
    {
     "name": "stdout",
     "output_type": "stream",
     "text": [
      "1358 True False\n",
      "1394 True False\n",
      "1425 True False\n",
      "1394 True False\n",
      "1394 True False\n",
      "1394 True False\n",
      "1394 True False\n",
      "823 True False\n",
      "1394 True False\n",
      "1394 True False\n",
      "1394 True False\n",
      "1394 True False\n",
      "1462 True False\n",
      "1394 True False\n",
      "1394 True False\n",
      "1316 True False\n",
      "1394 True False\n",
      "900 True False\n",
      "1394 True False\n",
      "684 True False\n",
      "1394 True False\n",
      "1394 True False\n",
      "1394 True False\n",
      "882 True False\n",
      "986 True False\n",
      "1394 True False\n",
      "1394 True False\n",
      "1394 True False\n",
      "1394 True False\n",
      "1394 True False\n",
      "1394 True False\n",
      "1394 True False\n",
      "1394 True False\n",
      "1394 True False\n",
      "567 True False\n",
      "1394 True False\n",
      "1394 True False\n",
      "905 True False\n",
      "1378 True False\n",
      "1394 True False\n",
      "1394 True False\n",
      "1394 True False\n",
      "1394 True False\n",
      "1394 True False\n",
      "1394 True False\n",
      "1394 True False\n",
      "1394 True False\n",
      "1394 True False\n",
      "1394 True False\n",
      "959 True False\n",
      "1394 True False\n",
      "1394 True False\n",
      "1394 True False\n",
      "1230 True False\n",
      "1394 True False\n",
      "1237 True False\n",
      "1394 True False\n",
      "1394 True False\n",
      "1394 True False\n",
      "1394 True False\n",
      "771 True False\n",
      "1394 True False\n",
      "1313 True False\n",
      "1394 True False\n",
      "1394 True False\n",
      "1394 True False\n",
      "876 True False\n",
      "1394 True False\n",
      "1244 True False\n",
      "1394 True False\n",
      "1153 True False\n",
      "1394 True False\n",
      "1459 True False\n",
      "1394 True False\n",
      "1394 True False\n",
      "1394 True False\n",
      "1394 True False\n",
      "1394 True False\n",
      "1328 True False\n",
      "950 True False\n",
      "1394 True False\n",
      "1394 True False\n",
      "1394 True False\n",
      "1394 True False\n",
      "1394 True False\n",
      "1394 True False\n",
      "1394 True False\n",
      "1394 True False\n",
      "1394 True False\n",
      "1341 True False\n",
      "1394 True False\n",
      "1255 True False\n",
      "1083 True False\n",
      "1394 True False\n",
      "1394 True False\n",
      "1425 True False\n",
      "1394 True False\n",
      "1394 True False\n",
      "1394 True False\n",
      "1394 True False\n",
      "1394 True False\n",
      "1394 True False\n",
      "1039 True False\n",
      "1394 True False\n",
      "1394 True False\n",
      "1394 True False\n",
      "1394 True False\n",
      "1394 True False\n",
      "1394 True False\n",
      "512 True False\n",
      "1247 True False\n",
      "1394 True False\n",
      "820 True False\n",
      "1394 True False\n",
      "1394 True False\n",
      "1394 True False\n",
      "1394 True False\n",
      "1394 True False\n",
      "896 True False\n",
      "1394 True False\n",
      "794 True False\n",
      "1394 True False\n",
      "1245 True False\n",
      "1394 True False\n",
      "1394 True False\n",
      "1394 True False\n",
      "1394 True False\n",
      "1394 True False\n",
      "1394 True False\n",
      "1394 True False\n",
      "1394 True False\n",
      "1394 True False\n",
      "1191 True False\n",
      "1394 True False\n",
      "1394 True False\n",
      "1394 True False\n",
      "881 True False\n",
      "1394 True False\n",
      "643 True False\n",
      "1394 True False\n",
      "1341 True False\n",
      "1394 True False\n",
      "1626 False False\n"
     ]
    }
   ],
   "source": [
    "instructions = parse_instructions(txt)\n",
    "for idx in range(len(instructions)):\n",
    "    op, arg = instructions[idx]\n",
    "    if op == 'nop':\n",
    "        mod_op = 'jmp'\n",
    "    elif op == 'jmp':\n",
    "        mod_op = 'nop'\n",
    "    else:\n",
    "        continue\n",
    "\n",
    "    modified_instructions = list(instructions)\n",
    "    modified_instructions[idx] = (mod_op, arg)\n",
    "    accumulator, infinite_loop, error = execute_instructions_detect_loop(modified_instructions)\n",
    "    print(accumulator, infinite_loop, error)\n",
    "    if not infinite_loop:\n",
    "        break"
   ]
  },
  {
   "cell_type": "code",
   "execution_count": null,
   "metadata": {
    "collapsed": true
   },
   "outputs": [],
   "source": []
  }
 ],
 "metadata": {
  "hide_input": false,
  "kernelspec": {
   "display_name": "Python [conda env:scratch]",
   "language": "python",
   "name": "conda-env-scratch-py"
  },
  "language_info": {
   "codemirror_mode": {
    "name": "ipython",
    "version": 3
   },
   "file_extension": ".py",
   "mimetype": "text/x-python",
   "name": "python",
   "nbconvert_exporter": "python",
   "pygments_lexer": "ipython3",
   "version": "3.5.5"
  },
  "toc": {
   "nav_menu": {
    "height": "48px",
    "width": "252px"
   },
   "navigate_menu": true,
   "number_sections": true,
   "sideBar": true,
   "threshold": 4,
   "toc_cell": false,
   "toc_section_display": "block",
   "toc_window_display": false
  }
 },
 "nbformat": 4,
 "nbformat_minor": 2
}
