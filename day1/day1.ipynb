{
 "cells": [
  {
   "cell_type": "code",
   "execution_count": 1,
   "metadata": {
    "ExecuteTime": {
     "end_time": "2020-12-03T05:33:26.711909Z",
     "start_time": "2020-12-03T06:33:26.062838+01:00"
    },
    "collapsed": true
   },
   "outputs": [],
   "source": [
    "import pandas as pd"
   ]
  },
  {
   "cell_type": "code",
   "execution_count": 14,
   "metadata": {
    "ExecuteTime": {
     "end_time": "2020-12-03T05:37:25.696618Z",
     "start_time": "2020-12-03T06:37:25.690986+01:00"
    },
    "collapsed": false
   },
   "outputs": [],
   "source": [
    "expenses = sorted(pd.read_csv('input_d1p1.txt', header=None).values[:, 0])"
   ]
  },
  {
   "cell_type": "code",
   "execution_count": 27,
   "metadata": {
    "ExecuteTime": {
     "end_time": "2020-12-03T05:44:42.736306Z",
     "start_time": "2020-12-03T06:44:42.730257+01:00"
    },
    "collapsed": false
   },
   "outputs": [
    {
     "name": "stdout",
     "output_type": "stream",
     "text": [
      "solution 195 1825 2020 355875\n",
      "congratulations\n"
     ]
    }
   ],
   "source": [
    "target = 2020\n",
    "try:\n",
    "    for n1 in expenses:\n",
    "        for n2 in expenses[::-1]:\n",
    "            if n1 + n2 == target:\n",
    "                print('solution', n1, n2, n1+n2, n1*n2)\n",
    "                raise RuntimeError('solution found')\n",
    "            if n1 + n2 < target:\n",
    "                break\n",
    "except RuntimeError:\n",
    "    print('congratulations')"
   ]
  },
  {
   "cell_type": "code",
   "execution_count": 26,
   "metadata": {
    "ExecuteTime": {
     "end_time": "2020-12-03T05:44:19.005017Z",
     "start_time": "2020-12-03T06:44:18.995618+01:00"
    },
    "collapsed": false
   },
   "outputs": [
    {
     "name": "stdout",
     "output_type": "stream",
     "text": [
      "solution 294 346 1380 2020 140379120\n",
      "congratulations\n"
     ]
    }
   ],
   "source": [
    "target = 2020\n",
    "try:\n",
    "    for idx1, n1 in enumerate(expenses):\n",
    "        for idx2, n2 in enumerate(expenses[idx1 + 1:]):\n",
    "            for idx3, n3 in enumerate(expenses[idx2 + 1:]):\n",
    "                if n1 + n2 + n3 == target:\n",
    "                    print('solution', n1, n2, n3, n1+n2+n3, n1*n2*n3)\n",
    "                    raise RuntimeError('solution found')\n",
    "                if n1 + n2 + n3 > target:\n",
    "                    break\n",
    "except RuntimeError:\n",
    "    print('congratulations')"
   ]
  },
  {
   "cell_type": "code",
   "execution_count": null,
   "metadata": {
    "collapsed": true
   },
   "outputs": [],
   "source": []
  }
 ],
 "metadata": {
  "hide_input": false,
  "kernelspec": {
   "display_name": "Python [conda env:scratch]",
   "language": "python",
   "name": "conda-env-scratch-py"
  },
  "language_info": {
   "codemirror_mode": {
    "name": "ipython",
    "version": 3
   },
   "file_extension": ".py",
   "mimetype": "text/x-python",
   "name": "python",
   "nbconvert_exporter": "python",
   "pygments_lexer": "ipython3",
   "version": "3.5.5"
  },
  "toc": {
   "nav_menu": {
    "height": "12px",
    "width": "252px"
   },
   "navigate_menu": true,
   "number_sections": true,
   "sideBar": true,
   "threshold": 4,
   "toc_cell": false,
   "toc_section_display": "block",
   "toc_window_display": false
  }
 },
 "nbformat": 4,
 "nbformat_minor": 2
}
