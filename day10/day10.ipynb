{
 "cells": [
  {
   "cell_type": "code",
   "execution_count": 1,
   "metadata": {
    "ExecuteTime": {
     "end_time": "2020-12-10T09:50:10.840282Z",
     "start_time": "2020-12-10T10:50:10.698494+01:00"
    },
    "collapsed": true
   },
   "outputs": [],
   "source": [
    "import numpy as np"
   ]
  },
  {
   "cell_type": "markdown",
   "metadata": {},
   "source": [
    "# Part 1"
   ]
  },
  {
   "cell_type": "code",
   "execution_count": 2,
   "metadata": {
    "ExecuteTime": {
     "end_time": "2020-12-10T09:50:11.074975Z",
     "start_time": "2020-12-10T10:50:11.070114+01:00"
    },
    "collapsed": false
   },
   "outputs": [],
   "source": [
    "case1 = \"\"\"\n",
    "16\n",
    "10\n",
    "15\n",
    "5\n",
    "1\n",
    "11\n",
    "7\n",
    "19\n",
    "6\n",
    "12\n",
    "4\n",
    "\"\"\"\n",
    "\n",
    "expected_1 = {1: 7, 3: 5}\n",
    "\n",
    "case2 = \"\"\"\n",
    "28\n",
    "33\n",
    "18\n",
    "42\n",
    "31\n",
    "14\n",
    "46\n",
    "20\n",
    "48\n",
    "47\n",
    "24\n",
    "23\n",
    "49\n",
    "45\n",
    "19\n",
    "38\n",
    "39\n",
    "11\n",
    "1\n",
    "32\n",
    "25\n",
    "35\n",
    "8\n",
    "17\n",
    "7\n",
    "9\n",
    "4\n",
    "2\n",
    "34\n",
    "10\n",
    "3\n",
    "\"\"\"\n",
    "\n",
    "expected_2  = {1: 22, 3: 10}"
   ]
  },
  {
   "cell_type": "code",
   "execution_count": 3,
   "metadata": {
    "ExecuteTime": {
     "end_time": "2020-12-10T09:50:11.420908Z",
     "start_time": "2020-12-10T10:50:11.415772+01:00"
    },
    "collapsed": false
   },
   "outputs": [],
   "source": [
    "from collections import Counter\n",
    "\n",
    "def parse_input(txt):\n",
    "    jolts = sorted([int(x) for x in txt.strip().splitlines()])\n",
    "    jolts = [0] + jolts + [jolts[-1] + 3]\n",
    "    return np.array(jolts)\n",
    "\n",
    "def count_jolts_differences(jolts):\n",
    "    return Counter(np.diff(jolts))"
   ]
  },
  {
   "cell_type": "code",
   "execution_count": 4,
   "metadata": {
    "ExecuteTime": {
     "end_time": "2020-12-10T09:50:11.649174Z",
     "start_time": "2020-12-10T10:50:11.644628+01:00"
    },
    "collapsed": false
   },
   "outputs": [],
   "source": [
    "jolts = parse_input(case1)\n",
    "assert count_jolts_differences(jolts) == expected_1"
   ]
  },
  {
   "cell_type": "code",
   "execution_count": 5,
   "metadata": {
    "ExecuteTime": {
     "end_time": "2020-12-10T09:50:11.825713Z",
     "start_time": "2020-12-10T10:50:11.822748+01:00"
    },
    "collapsed": false
   },
   "outputs": [],
   "source": [
    "jolts = parse_input(case2)\n",
    "assert count_jolts_differences(jolts) == expected_2"
   ]
  },
  {
   "cell_type": "code",
   "execution_count": 6,
   "metadata": {
    "ExecuteTime": {
     "end_time": "2020-12-10T09:50:12.007445Z",
     "start_time": "2020-12-10T10:50:12.002937+01:00"
    },
    "collapsed": true
   },
   "outputs": [],
   "source": [
    "with open('input.txt', 'r') as f:\n",
    "    txt = f.read()"
   ]
  },
  {
   "cell_type": "code",
   "execution_count": 7,
   "metadata": {
    "ExecuteTime": {
     "end_time": "2020-12-10T09:50:12.209016Z",
     "start_time": "2020-12-10T10:50:12.196565+01:00"
    },
    "collapsed": false
   },
   "outputs": [
    {
     "name": "stdout",
     "output_type": "stream",
     "text": [
      "Counter({1: 72, 3: 37})\n"
     ]
    },
    {
     "data": {
      "text/plain": [
       "2664"
      ]
     },
     "execution_count": 7,
     "metadata": {},
     "output_type": "execute_result"
    }
   ],
   "source": [
    "jolts = parse_input(txt)\n",
    "c = count_jolts_differences(jolts)\n",
    "print(c)\n",
    "c[1] * c[3]"
   ]
  },
  {
   "cell_type": "markdown",
   "metadata": {},
   "source": [
    "# Part 2"
   ]
  },
  {
   "cell_type": "code",
   "execution_count": 49,
   "metadata": {
    "ExecuteTime": {
     "end_time": "2020-12-10T10:02:40.023184Z",
     "start_time": "2020-12-10T11:02:40.016118+01:00"
    },
    "collapsed": false
   },
   "outputs": [],
   "source": [
    "def get_sequences_of_ones(jolts):\n",
    "    is_diff_one = (np.diff(jolts) == 1)\n",
    "    sequences_of_one = []\n",
    "    idx = 0\n",
    "    while idx < len(is_diff_one):\n",
    "        seq = 0\n",
    "        while is_diff_one[idx]:\n",
    "            seq += 1\n",
    "            idx += 1\n",
    "        sequences_of_one.append(seq)\n",
    "        while idx < len(is_diff_one) and not is_diff_one[idx]:\n",
    "            idx += 1\n",
    "\n",
    "    return sequences_of_one"
   ]
  },
  {
   "cell_type": "code",
   "execution_count": 50,
   "metadata": {
    "ExecuteTime": {
     "end_time": "2020-12-10T10:02:40.200935Z",
     "start_time": "2020-12-10T11:02:40.195803+01:00"
    },
    "collapsed": false
   },
   "outputs": [],
   "source": [
    "def n_combos(seq_len):\n",
    "    sum_combos = 1\n",
    "    if seq_len == 1:\n",
    "        return 1\n",
    "    elif seq_len < 1:\n",
    "        return 0\n",
    "    \n",
    "    sum_combos += n_combos(seq_len - 1)\n",
    "    sum_combos += n_combos(seq_len - 2)\n",
    "    return sum_combos"
   ]
  },
  {
   "cell_type": "code",
   "execution_count": 52,
   "metadata": {
    "ExecuteTime": {
     "end_time": "2020-12-10T10:02:47.746887Z",
     "start_time": "2020-12-10T11:02:47.742033+01:00"
    },
    "collapsed": false
   },
   "outputs": [
    {
     "data": {
      "text/plain": [
       "8"
      ]
     },
     "execution_count": 52,
     "metadata": {},
     "output_type": "execute_result"
    }
   ],
   "source": [
    "jolts = parse_input(case1)\n",
    "sequences_of_one = get_sequences_of_ones(jolts)\n",
    "np.prod([n_combos(n) for n in sequences_of_one])"
   ]
  },
  {
   "cell_type": "code",
   "execution_count": 54,
   "metadata": {
    "ExecuteTime": {
     "end_time": "2020-12-10T10:02:58.172596Z",
     "start_time": "2020-12-10T11:02:58.167459+01:00"
    },
    "collapsed": false
   },
   "outputs": [
    {
     "data": {
      "text/plain": [
       "19208"
      ]
     },
     "execution_count": 54,
     "metadata": {},
     "output_type": "execute_result"
    }
   ],
   "source": [
    "jolts = parse_input(case2)\n",
    "sequences_of_one = get_sequences_of_ones(jolts)\n",
    "np.prod([n_combos(n) for n in sequences_of_one])"
   ]
  },
  {
   "cell_type": "code",
   "execution_count": 55,
   "metadata": {
    "ExecuteTime": {
     "end_time": "2020-12-10T10:03:05.402784Z",
     "start_time": "2020-12-10T11:03:05.397561+01:00"
    },
    "collapsed": false
   },
   "outputs": [
    {
     "data": {
      "text/plain": [
       "148098383347712"
      ]
     },
     "execution_count": 55,
     "metadata": {},
     "output_type": "execute_result"
    }
   ],
   "source": [
    "jolts = parse_input(txt)\n",
    "sequences_of_one = get_sequences_of_ones(jolts)\n",
    "np.prod([n_combos(n) for n in sequences_of_one])"
   ]
  },
  {
   "cell_type": "code",
   "execution_count": null,
   "metadata": {
    "collapsed": true
   },
   "outputs": [],
   "source": []
  }
 ],
 "metadata": {
  "hide_input": false,
  "kernelspec": {
   "display_name": "Python [conda env:scratch]",
   "language": "python",
   "name": "conda-env-scratch-py"
  },
  "language_info": {
   "codemirror_mode": {
    "name": "ipython",
    "version": 3
   },
   "file_extension": ".py",
   "mimetype": "text/x-python",
   "name": "python",
   "nbconvert_exporter": "python",
   "pygments_lexer": "ipython3",
   "version": "3.5.5"
  },
  "toc": {
   "nav_menu": {
    "height": "48px",
    "width": "252px"
   },
   "navigate_menu": true,
   "number_sections": true,
   "sideBar": true,
   "threshold": 4,
   "toc_cell": false,
   "toc_section_display": "block",
   "toc_window_display": false
  }
 },
 "nbformat": 4,
 "nbformat_minor": 2
}
