{
 "cells": [
  {
   "cell_type": "code",
   "execution_count": 1,
   "metadata": {
    "ExecuteTime": {
     "end_time": "2020-12-13T06:15:46.159774Z",
     "start_time": "2020-12-13T07:15:46.025968+01:00"
    },
    "collapsed": false
   },
   "outputs": [],
   "source": [
    "import numpy as np"
   ]
  },
  {
   "cell_type": "code",
   "execution_count": 2,
   "metadata": {
    "ExecuteTime": {
     "end_time": "2020-12-13T06:15:46.194083Z",
     "start_time": "2020-12-13T07:15:46.191263+01:00"
    },
    "collapsed": true
   },
   "outputs": [],
   "source": [
    "test_input = \"\"\"\n",
    "939\n",
    "7,13,x,x,59,x,31,19\n",
    "\"\"\""
   ]
  },
  {
   "cell_type": "code",
   "execution_count": 3,
   "metadata": {
    "ExecuteTime": {
     "end_time": "2020-12-13T06:15:46.374560Z",
     "start_time": "2020-12-13T07:15:46.369724+01:00"
    },
    "collapsed": true
   },
   "outputs": [],
   "source": [
    "def parse_input(txt):\n",
    "    rows = txt.strip().splitlines()\n",
    "    timestamp = int(rows[0])\n",
    "    busses = np.array([int(x) for x in rows[1].split(',') if x != 'x'])\n",
    "    return timestamp, busses"
   ]
  },
  {
   "cell_type": "code",
   "execution_count": 4,
   "metadata": {
    "ExecuteTime": {
     "end_time": "2020-12-13T06:15:46.519731Z",
     "start_time": "2020-12-13T07:15:46.517363+01:00"
    },
    "collapsed": false
   },
   "outputs": [],
   "source": [
    "timestamp, busses = parse_input(test_input)"
   ]
  },
  {
   "cell_type": "code",
   "execution_count": 5,
   "metadata": {
    "ExecuteTime": {
     "end_time": "2020-12-13T06:15:46.667950Z",
     "start_time": "2020-12-13T07:15:46.657169+01:00"
    },
    "collapsed": false
   },
   "outputs": [
    {
     "data": {
      "text/plain": [
       "array([ 7, 13, 59, 31, 19])"
      ]
     },
     "execution_count": 5,
     "metadata": {},
     "output_type": "execute_result"
    }
   ],
   "source": [
    "busses"
   ]
  },
  {
   "cell_type": "code",
   "execution_count": 6,
   "metadata": {
    "ExecuteTime": {
     "end_time": "2020-12-13T06:15:46.825852Z",
     "start_time": "2020-12-13T07:15:46.819896+01:00"
    },
    "collapsed": false
   },
   "outputs": [
    {
     "data": {
      "text/plain": [
       "(array([134.14285714,  72.23076923,  15.91525424,  30.29032258,\n",
       "         49.42105263]), 2)"
      ]
     },
     "execution_count": 6,
     "metadata": {},
     "output_type": "execute_result"
    }
   ],
   "source": [
    "x = timestamp / busses\n",
    "next_bus = np.ceil(x) * busses - timestamp\n",
    "idx = np.argmin(np.ceil(x) - x)\n",
    "x, idx"
   ]
  },
  {
   "cell_type": "code",
   "execution_count": 7,
   "metadata": {
    "ExecuteTime": {
     "end_time": "2020-12-13T06:15:46.988868Z",
     "start_time": "2020-12-13T07:15:46.985222+01:00"
    },
    "collapsed": false
   },
   "outputs": [
    {
     "data": {
      "text/plain": [
       "59"
      ]
     },
     "execution_count": 7,
     "metadata": {},
     "output_type": "execute_result"
    }
   ],
   "source": [
    "busses[idx]"
   ]
  },
  {
   "cell_type": "code",
   "execution_count": 8,
   "metadata": {
    "ExecuteTime": {
     "end_time": "2020-12-13T06:15:47.168181Z",
     "start_time": "2020-12-13T07:15:47.163099+01:00"
    },
    "collapsed": false
   },
   "outputs": [
    {
     "data": {
      "text/plain": [
       "5.0"
      ]
     },
     "execution_count": 8,
     "metadata": {},
     "output_type": "execute_result"
    }
   ],
   "source": [
    "min(next_bus)"
   ]
  },
  {
   "cell_type": "code",
   "execution_count": 9,
   "metadata": {
    "ExecuteTime": {
     "end_time": "2020-12-13T06:15:47.334275Z",
     "start_time": "2020-12-13T07:15:47.329309+01:00"
    },
    "collapsed": true
   },
   "outputs": [],
   "source": [
    "with open('input.txt', 'r') as f:\n",
    "    input_ = f.read()\n",
    "    "
   ]
  },
  {
   "cell_type": "code",
   "execution_count": 10,
   "metadata": {
    "ExecuteTime": {
     "end_time": "2020-12-13T06:15:47.496318Z",
     "start_time": "2020-12-13T07:15:47.493248+01:00"
    },
    "collapsed": false
   },
   "outputs": [],
   "source": [
    "timestamp, busses = parse_input(input_)"
   ]
  },
  {
   "cell_type": "code",
   "execution_count": 11,
   "metadata": {
    "ExecuteTime": {
     "end_time": "2020-12-13T06:15:47.828384Z",
     "start_time": "2020-12-13T07:15:47.823280+01:00"
    },
    "collapsed": false
   },
   "outputs": [
    {
     "data": {
      "text/plain": [
       "(array([52716.42105263, 24429.56097561, 27070.59459459,  1219.99025579,\n",
       "        77047.07692308, 58918.35294118, 34538.34482759,  2163.30885529,\n",
       "        43548.34782609]), 3)"
      ]
     },
     "execution_count": 11,
     "metadata": {},
     "output_type": "execute_result"
    }
   ],
   "source": [
    "x = timestamp / busses\n",
    "next_bus = np.ceil(x) * busses - timestamp\n",
    "idx = np.argmin(np.ceil(x) - x)\n",
    "x, idx"
   ]
  },
  {
   "cell_type": "code",
   "execution_count": 12,
   "metadata": {
    "ExecuteTime": {
     "end_time": "2020-12-13T06:15:48.038563Z",
     "start_time": "2020-12-13T07:15:48.034022+01:00"
    },
    "collapsed": false
   },
   "outputs": [
    {
     "data": {
      "text/plain": [
       "(821, 8.0, 6568.0)"
      ]
     },
     "execution_count": 12,
     "metadata": {},
     "output_type": "execute_result"
    }
   ],
   "source": [
    "busses[idx], min(next_bus), busses[idx] * min(next_bus)"
   ]
  },
  {
   "cell_type": "markdown",
   "metadata": {},
   "source": [
    "# Part 2"
   ]
  },
  {
   "cell_type": "code",
   "execution_count": 13,
   "metadata": {
    "ExecuteTime": {
     "end_time": "2020-12-13T06:15:48.638061Z",
     "start_time": "2020-12-13T07:15:48.633910+01:00"
    },
    "collapsed": false
   },
   "outputs": [],
   "source": [
    "test_busses = [\n",
    "    ('7,13,x,x,59,x,31,19', 1068781),\n",
    "    ('17,x,13,19', 3417),\n",
    "    ('67,7,59,61', 754018),\n",
    "    ('67,x,7,59,61', 779210),\n",
    "    ('67,7,x,59,61', 1261476),\n",
    "    ('1789,37,47,1889', 1202161486),\n",
    "]"
   ]
  },
  {
   "cell_type": "code",
   "execution_count": 14,
   "metadata": {
    "ExecuteTime": {
     "end_time": "2020-12-13T06:15:49.103114Z",
     "start_time": "2020-12-13T07:15:49.098461+01:00"
    },
    "collapsed": false
   },
   "outputs": [],
   "source": [
    "def parse_busses(busses_txt):\n",
    "    ids = busses_txt.split(',')\n",
    "    delta_t = np.array([idx for idx, x in enumerate(ids) if x != 'x'])\n",
    "    ids = np.array([int(x) for x in ids if x != 'x'])\n",
    "    return ids, delta_t"
   ]
  },
  {
   "cell_type": "code",
   "execution_count": 212,
   "metadata": {
    "ExecuteTime": {
     "end_time": "2020-12-13T08:06:55.292556Z",
     "start_time": "2020-12-13T09:06:55.286418+01:00"
    },
    "collapsed": true
   },
   "outputs": [],
   "source": [
    "def find_last_t(ids, delta_t, start_t=None, mult=None):\n",
    "    delta_t_target = ids - (delta_t % ids)\n",
    "    delta_t_target[0] = 0\n",
    "\n",
    "    if start_t is None:\n",
    "        t = ids[0]\n",
    "    else:\n",
    "        t = start_t\n",
    "    if mult is None:\n",
    "        mult = ids[0]\n",
    "    step = 1000000 * mult\n",
    "    while True:\n",
    "        if t % ids[-1] == delta_t_target[-1]:\n",
    "            return t\n",
    "        t += mult\n"
   ]
  },
  {
   "cell_type": "code",
   "execution_count": 213,
   "metadata": {
    "ExecuteTime": {
     "end_time": "2020-12-13T08:06:55.502522Z",
     "start_time": "2020-12-13T09:06:55.496157+01:00"
    },
    "collapsed": true
   },
   "outputs": [],
   "source": [
    "def progressive_find_t(ids, delta_t):\n",
    "    start_t, mult = ids[0] - delta_t[0], ids[0]\n",
    "    for idx in range(1, len(ids) + 1):\n",
    "        t = find_last_t(ids[:idx], delta_t[:idx], start_t=start_t, mult=mult)\n",
    "        print(idx, t)\n",
    "        start_t, mult = t, np.prod(ids[:idx])\n",
    "    return t"
   ]
  },
  {
   "cell_type": "code",
   "execution_count": 214,
   "metadata": {
    "ExecuteTime": {
     "end_time": "2020-12-13T08:06:55.877363Z",
     "start_time": "2020-12-13T09:06:55.873037+01:00"
    },
    "collapsed": false,
    "scrolled": true
   },
   "outputs": [
    {
     "name": "stdout",
     "output_type": "stream",
     "text": [
      "1 7\n",
      "2 77\n",
      "3 350\n",
      "4 70147\n",
      "5 1068781\n",
      "1068781 1068781\n",
      "1 17\n",
      "2 102\n",
      "3 3417\n",
      "3417 3417\n",
      "1 67\n",
      "2 335\n",
      "3 6901\n",
      "4 754018\n",
      "754018 754018\n",
      "1 67\n",
      "2 201\n",
      "3 4422\n",
      "4 779210\n",
      "779210 779210\n",
      "1 67\n",
      "2 335\n",
      "3 16281\n",
      "4 1261476\n",
      "1261476 1261476\n",
      "1 1789\n",
      "2 30413\n",
      "3 1288080\n",
      "4 1202161486\n",
      "1202161486 1202161486\n"
     ]
    }
   ],
   "source": [
    "for b, exp in test_busses:\n",
    "    ids, delta_t = parse_busses(b)\n",
    "    res = progressive_find_t(ids, delta_t)\n",
    "    print(exp, res)\n"
   ]
  },
  {
   "cell_type": "code",
   "execution_count": 215,
   "metadata": {
    "ExecuteTime": {
     "end_time": "2020-12-13T08:07:03.136153Z",
     "start_time": "2020-12-13T09:07:03.132218+01:00"
    },
    "collapsed": true
   },
   "outputs": [],
   "source": [
    "with open('input.txt', 'r') as f:\n",
    "    input_ = f.readlines()\n",
    "    "
   ]
  },
  {
   "cell_type": "code",
   "execution_count": 216,
   "metadata": {
    "ExecuteTime": {
     "end_time": "2020-12-13T08:07:03.330993Z",
     "start_time": "2020-12-13T09:07:03.327200+01:00"
    },
    "collapsed": false
   },
   "outputs": [
    {
     "data": {
      "text/plain": [
       "['1001612\\n',\n",
       " '19,x,x,x,x,x,x,x,x,41,x,x,x,37,x,x,x,x,x,821,x,x,x,x,x,x,x,x,x,x,x,x,13,x,x,x,17,x,x,x,x,x,x,x,x,x,x,x,29,x,463,x,x,x,x,x,x,x,x,x,x,x,x,x,x,x,x,x,x,x,x,x,x,23\\n']"
      ]
     },
     "execution_count": 216,
     "metadata": {},
     "output_type": "execute_result"
    }
   ],
   "source": [
    "input_"
   ]
  },
  {
   "cell_type": "code",
   "execution_count": 217,
   "metadata": {
    "ExecuteTime": {
     "end_time": "2020-12-13T08:07:03.961328Z",
     "start_time": "2020-12-13T09:07:03.957070+01:00"
    },
    "collapsed": false
   },
   "outputs": [
    {
     "data": {
      "text/plain": [
       "(array([ 19,  41,  37, 821,  13,  17,  29, 463,  23]),\n",
       " array([ 0,  9, 13, 19, 32, 36, 48, 50, 73]))"
      ]
     },
     "execution_count": 217,
     "metadata": {},
     "output_type": "execute_result"
    }
   ],
   "source": [
    "ids, delta_t = parse_busses(input_[1])\n",
    "ids, delta_t"
   ]
  },
  {
   "cell_type": "code",
   "execution_count": 218,
   "metadata": {
    "ExecuteTime": {
     "end_time": "2020-12-13T08:07:04.696298Z",
     "start_time": "2020-12-13T09:07:04.691460+01:00"
    },
    "collapsed": false
   },
   "outputs": [
    {
     "name": "stdout",
     "output_type": "stream",
     "text": [
      "1 19\n",
      "2 114\n",
      "3 22705\n",
      "4 109174\n",
      "5 118427589\n",
      "6 2271822742\n",
      "7 91176279773\n",
      "8 63333623272472\n",
      "9 554865447501099\n"
     ]
    },
    {
     "name": "stderr",
     "output_type": "stream",
     "text": [
      "/Users/berkes/miniconda3/envs/scratch/lib/python3.5/site-packages/ipykernel/__main__.py:11: RuntimeWarning: overflow encountered in long_scalars\n"
     ]
    },
    {
     "data": {
      "text/plain": [
       "554865447501099"
      ]
     },
     "execution_count": 218,
     "metadata": {},
     "output_type": "execute_result"
    }
   ],
   "source": [
    "progressive_find_t(ids, delta_t)"
   ]
  },
  {
   "cell_type": "code",
   "execution_count": null,
   "metadata": {
    "collapsed": true
   },
   "outputs": [],
   "source": []
  }
 ],
 "metadata": {
  "hide_input": false,
  "kernelspec": {
   "display_name": "Python [conda env:scratch]",
   "language": "python",
   "name": "conda-env-scratch-py"
  },
  "language_info": {
   "codemirror_mode": {
    "name": "ipython",
    "version": 3
   },
   "file_extension": ".py",
   "mimetype": "text/x-python",
   "name": "python",
   "nbconvert_exporter": "python",
   "pygments_lexer": "ipython3",
   "version": "3.5.5"
  },
  "toc": {
   "nav_menu": {
    "height": "30px",
    "width": "252px"
   },
   "navigate_menu": true,
   "number_sections": true,
   "sideBar": true,
   "threshold": 4,
   "toc_cell": false,
   "toc_section_display": "block",
   "toc_window_display": false
  }
 },
 "nbformat": 4,
 "nbformat_minor": 2
}
